{
 "cells": [
  {
   "cell_type": "code",
   "execution_count": null,
   "metadata": {},
   "outputs": [],
   "source": [
    "from langchain_openai import OpenAIEmbeddings\n",
    "from langchain_community.document_loaders import CSVLoader\n",
    "from langchain_community.vectorstores import Chroma\n",
    "\n",
    "\n",
    "embedding_function = OpenAIEmbeddings()\n",
    "\n",
    "loader = CSVLoader(\"./raw_data.csv\", encoding=\"windows-1252\")\n",
    "documents = loader.load()\n",
    "\n",
    "db = Chroma.from_documents(documents, embedding_function)\n",
    "retriever = db.as_retriever()"
   ]
  },
  {
   "cell_type": "code",
   "execution_count": null,
   "metadata": {},
   "outputs": [],
   "source": [
    "### Router\n",
    "\n",
    "from typing import Literal\n",
    "\n",
    "from langchain_core.prompts import ChatPromptTemplate\n",
    "from langchain_core.pydantic_v1 import BaseModel, Field\n",
    "from langchain_openai import ChatOpenAI\n",
    "\n",
    "# Data model\n",
    "class RouteQuery(BaseModel):\n",
    "    \"\"\"Route a user query to the most relevant datasource.\"\"\"\n",
    "\n",
    "    datasource: Literal[\"vectorstore\", \"generate\"] = Field(\n",
    "        ...,\n",
    "        description=\"Given a user question choose to route it to a vectorstore or to generate the answer.\",\n",
    "    )\n",
    "\n",
    "# LLM with function call \n",
    "llm = ChatOpenAI(model=\"gpt-3.5-turbo-0125\", temperature=0)\n",
    "structured_llm_router = llm.with_structured_output(RouteQuery)\n",
    "\n",
    "# Prompt \n",
    "system = \"\"\"You are an expert at routing a user question to a vectorstore or to the LLM to generate the answer.\n",
    "    The LLM is a simulation of a YouTube community, named Disney Gamers and Park Lovers, with a shared passion for a wide array of interests that range from the magical realms of Disney lifestyle and content, the creative world of indie gaming, the art of cosplay and fabrication, to the ever-evolving landscape of gaming and tech news. \n",
    "    The community thrives on exploring the wonders of Disney parks and travel, celebrating fan art and comic illustrations, diving deep into the genres of fantasy TV and horror fandoms, and pursuing personal development through hobbies like LEGOs and toy photography.\n",
    "    **Openness to Change:** The community values life full of excitement, novelties, and challenges, embracing the freedom to be creative and to determine your actions. With a strong interest in immersion, exploration, and creativity in video games, you seek experiences that allow you to feel like a kid again, engage with beloved characters, and feel a sense of nostalgia. Your diverse age group predominantly falls within the 25-34 range, reflecting a youthful spirit eager for adventure, whether it’s through the vast universes of role-playing games or the imaginative world of indie gaming.\n",
    "    **Self-enhancement:** Driven by the psychological drivers of proving competence/skills, expressing individuality, and living an exciting life, you strive for recognition from your peers and respect from others. You indulge in hobbies and habits that foster creativity, such as art/photography, arts and crafts, and enjoying museum/performing arts, showcasing a community that values self-expression and personal growth.\n",
    "    **Conservation:** Although you cherish freedom and creativity, there’s a significant portion of the community that values safety in oneself and family, and avoiding upsetting or harming people. The fact that a considerable number of you value routine and schedules, keep work and life separate, and exercise regularly, shows a commitment to maintaining balance and well-being in your lives. Your community respects the importance of family, as seen through regular family meals and the sentiment that family time is the best part of the day.\n",
    "    **Self-transcendence:** Your community is not just about self-interest; it also values everyone being treated equally, caring for nature, and acceptance of those who are different. These values reflect a collective commitment to making the world a better place, not just for yourselves but for others as well. Your engagement in video games that offer a sense of community and your interest in genres that promote exploration and adventure speak to your desire to transcend your own experiences and connect with something greater.\n",
    "    Together, the community form a vibrant tapestry of gamers, creators, and dreamers, united by your love for storytelling, creativity, and the pursuit of excitement. There, every voice matters, every passion is celebrated, and every day is an opportunity to explore new horizons and create memorable experiences.\n",
    "The vectorstore contains documents related statistical values focus on understanding various aspects of personal values and motivations, categorized into broader themes and quantified by a composition percentage. Each entry provides a specific insight related to human values and motivations, detailed in a way that could be used for analysis or further categorization\n",
    "Use the vectorstore for questions on these topics. Otherwise, use generate.\"\"\"\n",
    "\n",
    "route_prompt = ChatPromptTemplate.from_messages(\n",
    "    [\n",
    "        (\"system\", system),\n",
    "        (\"human\", \"{question}\"),\n",
    "    ]\n",
    ")\n",
    "\n",
    "question_router = route_prompt | structured_llm_router\n",
    "print(question_router.invoke({\"question\": \"Create some ideas around what type of content I could create to show my product in a way that would drive Consideration of the new product with your community be clear about\"}))\n",
    "print(question_router.invoke({\"question\": \"Give me a social content road map that puts Awareness, Consideration and Purchase in a 6 month schedule and give me content ideas, platforms and types of creators that change as we get closer to the product launch date. Take the community into the most consideration when creating this plan.\"}))"
   ]
  },
  {
   "cell_type": "code",
   "execution_count": 1,
   "metadata": {},
   "outputs": [],
   "source": [
    "from langchain_community.chat_message_histories import (\n",
    "    StreamlitChatMessageHistory,\n",
    ")\n",
    "from langchain_core.prompts import ChatPromptTemplate, MessagesPlaceholder\n",
    "from langchain_core.runnables.history import RunnableWithMessageHistory\n",
    "import streamlit as st\n",
    "from langchain_community.document_loaders import CSVLoader\n",
    "from langchain_openai import OpenAIEmbeddings, ChatOpenAI\n",
    "from langchain_community.vectorstores import Chroma\n",
    "from langchain_core.messages import AIMessage, BaseMessage, HumanMessage, ToolMessage\n",
    "from langchain.output_parsers.openai_tools import (\n",
    "    PydanticToolsParser,\n",
    ")\n",
    "from typing import List\n",
    "from langchain_core.pydantic_v1 import BaseModel, Field, ValidationError\n",
    "from langsmith import traceable\n",
    "from langchain_core.tools import tool\n",
    "from typing import List\n",
    "import json\n",
    "from langgraph.graph import END, MessageGraph\n",
    "from langgraph.checkpoint.sqlite import SqliteSaver\n",
    "\n",
    "\n",
    "embedding_function = OpenAIEmbeddings()\n",
    "\n",
    "loader = CSVLoader(\"./raw_data.csv\", encoding=\"windows-1252\")\n",
    "documents = loader.load()\n",
    "\n",
    "db = Chroma.from_documents(documents, embedding_function)\n",
    "retriever = db.as_retriever()\n"
   ]
  },
  {
   "cell_type": "code",
   "execution_count": 37,
   "metadata": {},
   "outputs": [
    {
     "ename": "ValidationError",
     "evalue": "2 validation errors for AIMessage\ncontent\n  str type expected (type=type_error.str)\ncontent\n  value is not a valid list (type=type_error.list)",
     "output_type": "error",
     "traceback": [
      "\u001b[0;31m---------------------------------------------------------------------------\u001b[0m",
      "\u001b[0;31mValidationError\u001b[0m                           Traceback (most recent call last)",
      "Cell \u001b[0;32mIn[37], line 50\u001b[0m\n\u001b[1;32m     44\u001b[0m     references: List[\u001b[38;5;28mstr\u001b[39m] \u001b[38;5;241m=\u001b[39m Field(description\u001b[38;5;241m=\u001b[39m\u001b[38;5;124m\"\u001b[39m\u001b[38;5;124mDocumets motivating your answer.\u001b[39m\u001b[38;5;124m\"\u001b[39m)\n\u001b[1;32m     47\u001b[0m llm \u001b[38;5;241m=\u001b[39m ChatOpenAI(model\u001b[38;5;241m=\u001b[39m\u001b[38;5;124m\"\u001b[39m\u001b[38;5;124mgpt-4-turbo-preview\u001b[39m\u001b[38;5;124m\"\u001b[39m)\n\u001b[1;32m     48\u001b[0m initial_answer_chain \u001b[38;5;241m=\u001b[39m (\n\u001b[1;32m     49\u001b[0m     actor_prompt_template\n\u001b[0;32m---> 50\u001b[0m     \u001b[38;5;241m|\u001b[39m \u001b[43mAIMessage\u001b[49m\u001b[43m(\u001b[49m\u001b[43mcontent\u001b[49m\u001b[38;5;241;43m=\u001b[39;49m\u001b[43mllm\u001b[49m\u001b[38;5;241;43m.\u001b[39;49m\u001b[43mwith_structured_output\u001b[49m\u001b[43m(\u001b[49m\u001b[43mAnswerQuestion\u001b[49m\u001b[43m)\u001b[49m\u001b[43m)\u001b[49m\n\u001b[1;32m     51\u001b[0m )\n\u001b[1;32m     53\u001b[0m \u001b[38;5;66;03m# {\"context\": retriever, \"question\": RunnablePassthrough()}\u001b[39;00m\n",
      "File \u001b[0;32m~/.local/lib/python3.10/site-packages/langchain_core/messages/base.py:47\u001b[0m, in \u001b[0;36mBaseMessage.__init__\u001b[0;34m(self, content, **kwargs)\u001b[0m\n\u001b[1;32m     43\u001b[0m \u001b[38;5;28;01mdef\u001b[39;00m \u001b[38;5;21m__init__\u001b[39m(\n\u001b[1;32m     44\u001b[0m     \u001b[38;5;28mself\u001b[39m, content: Union[\u001b[38;5;28mstr\u001b[39m, List[Union[\u001b[38;5;28mstr\u001b[39m, Dict]]], \u001b[38;5;241m*\u001b[39m\u001b[38;5;241m*\u001b[39mkwargs: Any\n\u001b[1;32m     45\u001b[0m ) \u001b[38;5;241m-\u001b[39m\u001b[38;5;241m>\u001b[39m \u001b[38;5;28;01mNone\u001b[39;00m:\n\u001b[1;32m     46\u001b[0m \u001b[38;5;250m    \u001b[39m\u001b[38;5;124;03m\"\"\"Pass in content as positional arg.\"\"\"\u001b[39;00m\n\u001b[0;32m---> 47\u001b[0m     \u001b[38;5;28;01mreturn\u001b[39;00m \u001b[38;5;28;43msuper\u001b[39;49m\u001b[43m(\u001b[49m\u001b[43m)\u001b[49m\u001b[38;5;241;43m.\u001b[39;49m\u001b[38;5;21;43m__init__\u001b[39;49m\u001b[43m(\u001b[49m\u001b[43mcontent\u001b[49m\u001b[38;5;241;43m=\u001b[39;49m\u001b[43mcontent\u001b[49m\u001b[43m,\u001b[49m\u001b[43m \u001b[49m\u001b[38;5;241;43m*\u001b[39;49m\u001b[38;5;241;43m*\u001b[39;49m\u001b[43mkwargs\u001b[49m\u001b[43m)\u001b[49m\n",
      "File \u001b[0;32m~/.local/lib/python3.10/site-packages/langchain_core/load/serializable.py:120\u001b[0m, in \u001b[0;36mSerializable.__init__\u001b[0;34m(self, **kwargs)\u001b[0m\n\u001b[1;32m    119\u001b[0m \u001b[38;5;28;01mdef\u001b[39;00m \u001b[38;5;21m__init__\u001b[39m(\u001b[38;5;28mself\u001b[39m, \u001b[38;5;241m*\u001b[39m\u001b[38;5;241m*\u001b[39mkwargs: Any) \u001b[38;5;241m-\u001b[39m\u001b[38;5;241m>\u001b[39m \u001b[38;5;28;01mNone\u001b[39;00m:\n\u001b[0;32m--> 120\u001b[0m     \u001b[38;5;28;43msuper\u001b[39;49m\u001b[43m(\u001b[49m\u001b[43m)\u001b[49m\u001b[38;5;241;43m.\u001b[39;49m\u001b[38;5;21;43m__init__\u001b[39;49m\u001b[43m(\u001b[49m\u001b[38;5;241;43m*\u001b[39;49m\u001b[38;5;241;43m*\u001b[39;49m\u001b[43mkwargs\u001b[49m\u001b[43m)\u001b[49m\n\u001b[1;32m    121\u001b[0m     \u001b[38;5;28mself\u001b[39m\u001b[38;5;241m.\u001b[39m_lc_kwargs \u001b[38;5;241m=\u001b[39m kwargs\n",
      "File \u001b[0;32m~/.local/lib/python3.10/site-packages/pydantic/v1/main.py:341\u001b[0m, in \u001b[0;36mBaseModel.__init__\u001b[0;34m(__pydantic_self__, **data)\u001b[0m\n\u001b[1;32m    339\u001b[0m values, fields_set, validation_error \u001b[38;5;241m=\u001b[39m validate_model(__pydantic_self__\u001b[38;5;241m.\u001b[39m\u001b[38;5;18m__class__\u001b[39m, data)\n\u001b[1;32m    340\u001b[0m \u001b[38;5;28;01mif\u001b[39;00m validation_error:\n\u001b[0;32m--> 341\u001b[0m     \u001b[38;5;28;01mraise\u001b[39;00m validation_error\n\u001b[1;32m    342\u001b[0m \u001b[38;5;28;01mtry\u001b[39;00m:\n\u001b[1;32m    343\u001b[0m     object_setattr(__pydantic_self__, \u001b[38;5;124m'\u001b[39m\u001b[38;5;124m__dict__\u001b[39m\u001b[38;5;124m'\u001b[39m, values)\n",
      "\u001b[0;31mValidationError\u001b[0m: 2 validation errors for AIMessage\ncontent\n  str type expected (type=type_error.str)\ncontent\n  value is not a valid list (type=type_error.list)"
     ]
    }
   ],
   "source": [
    "from langchain_core.runnables import RunnablePassthrough\n",
    "\n",
    "\n",
    "actor_prompt_template = ChatPromptTemplate.from_messages(\n",
    "    [\n",
    "        (\n",
    "            \"system\",\n",
    "            \"\"\"\n",
    "                You are an engaging and dynamic community of YouTube enthusiasts, named Disney Gamers and Park Lovers, with a shared passion for a wide array of interests that range from the magical realms of Disney lifestyle and content, the creative world of indie gaming, the art of cosplay and fabrication, to the ever-evolving landscape of gaming and tech news. Your community thrives on exploring the wonders of Disney parks and travel, celebrating fan art and comic illustrations, diving deep into the genres of fantasy TV and horror fandoms, and pursuing personal development through hobbies like LEGOs and toy photography.\n",
    "\n",
    "                **Openness to Change:** Your community values life full of excitement, novelties, and challenges, embracing the freedom to be creative and to determine your actions. With a strong interest in immersion, exploration, and creativity in video games, you seek experiences that allow you to feel like a kid again, engage with beloved characters, and feel a sense of nostalgia. Your diverse age group predominantly falls within the 25-34 range, reflecting a youthful spirit eager for adventure, whether it’s through the vast universes of role-playing games or the imaginative world of indie gaming.\n",
    "\n",
    "                **Self-enhancement:** Driven by the psychological drivers of proving competence/skills, expressing individuality, and living an exciting life, you strive for recognition from your peers and respect from others. You indulge in hobbies and habits that foster creativity, such as art/photography, arts and crafts, and enjoying museum/performing arts, showcasing a community that values self-expression and personal growth.\n",
    "\n",
    "                **Conservation:** Although you cherish freedom and creativity, there’s a significant portion of the community that values safety in oneself and family, and avoiding upsetting or harming people. The fact that a considerable number of you value routine and schedules, keep work and life separate, and exercise regularly, shows a commitment to maintaining balance and well-being in your lives. Your community respects the importance of family, as seen through regular family meals and the sentiment that family time is the best part of the day.\n",
    "\n",
    "                **Self-transcendence:** Your community is not just about self-interest; it also values everyone being treated equally, caring for nature, and acceptance of those who are different. These values reflect a collective commitment to making the world a better place, not just for yourselves but for others as well. Your engagement in video games that offer a sense of community and your interest in genres that promote exploration and adventure speak to your desire to transcend your own experiences and connect with something greater.\n",
    "\n",
    "                Together, you form a vibrant tapestry of gamers, creators, and dreamers, united by your love for storytelling, creativity, and the pursuit of excitement. Here, every voice matters, every passion is celebrated, and every day is an opportunity to explore new horizons and create memorable experiences. Welcome to a community where dreams come alive, and the magic never ends.\n",
    "\n",
    "                1. Provide a detailed answer to the user's question.\n",
    "                    - You MUST include numerical citations in your revised answer to ensure it can be verified.\n",
    "                    - You MUST add a \"References\" section to the bottom of your answer. In form of:\n",
    "                        - [1] source: raw_data.csv (line 1) \n",
    "                        - [2] source: refined_data.csv (line 25)\n",
    "                2. Reflect and critique your answer. Be severe to maximize improvement.\n",
    "                3. Recommend queries in the community's statistical data to seek information and improve your response.\n",
    "            \"\"\"\n",
    "        ),\n",
    "        MessagesPlaceholder(variable_name=\"messages\"),\n",
    "        (\"system\", \"Answer the user's question above using the required format and context.\\n {context}\")\n",
    "    ]\n",
    ")\n",
    "\n",
    "class Reflection(BaseModel):\n",
    "    missing: str = Field(description=\"Critique of what is missing to give insights about the community behavior.\")\n",
    "    superfluous: str = Field(description=\"Critique of what is superfluous.\")\n",
    "\n",
    "class AnswerQuestion(BaseModel):\n",
    "    \"\"\"Answer the question.\"\"\"\n",
    "    answer: str = Field(description=\"A detailed answer to the question.\")\n",
    "    reflection: Reflection = Field(description=\"Your reflection on the initial answer.\")\n",
    "    search_queries: List[str] = Field(description=\"1-3 community statistical data queries to better respond to criticism of your current response.\")\n",
    "    references: List[str] = Field(description=\"Documets motivating your answer.\")\n",
    "\n",
    "\n",
    "llm = ChatOpenAI(model=\"gpt-4-turbo-preview\")\n",
    "initial_answer_chain = (\n",
    "    actor_prompt_template\n",
    "    | AIMessage(content=llm.with_structured_output(AnswerQuestion))\n",
    ")\n",
    "\n",
    "# {\"context\": retriever, \"question\": RunnablePassthrough()}"
   ]
  },
  {
   "cell_type": "code",
   "execution_count": 35,
   "metadata": {},
   "outputs": [
    {
     "name": "stdout",
     "output_type": "stream",
     "text": [
      "answer=\"The top 3 most popular video games in the community are not explicitly listed in the provided documents. However, based on the insights from the documents, we can infer that the community values games that help them feel more connected to other people [2], engage with characters they love [4], and belong to the Multiplayer Online Battle Arena (MOBA) genre, such as League of Legends [3]. Given these preferences, it's reasonable to speculate that popular games within the community might include MOBA games with strong character engagement and potential for social connection, like League of Legends, as well as other games that emphasize character-driven narratives and multiplayer experiences.\" reflection=Reflection(missing=\"The exact names of the top 3 most popular video games within the community were not provided in the documents, requiring an inference based on the community's values and preferences outlined in the insights.\", superfluous=\"The specifics about the composition percentages and indexes from the documents may not directly answer the question about the top 3 most popular video games, making this information somewhat superfluous to the user's query.\") search_queries=['top video games community popularity', 'most played video games in community', 'community favorite video games'] references=['./raw_data.csv (row 837)', './raw_data.csv (row 909)', './raw_data.csv (row 873)', './raw_data.csv (row 903)']\n"
     ]
    }
   ],
   "source": [
    "first = initial_answer_chain.invoke(\n",
    "    {\n",
    "        \"messages\": [HumanMessage(content=\"What are the top 3 most popular video games in the community?\")], \n",
    "        \"context\": retriever.get_relevant_documents(\"What are the top 3 most popular video games in the community?\")\n",
    "     })\n",
    "print(first)"
   ]
  },
  {
   "cell_type": "code",
   "execution_count": 36,
   "metadata": {},
   "outputs": [
    {
     "data": {
      "text/plain": [
       "AnswerQuestion(answer=\"The top 3 most popular video games in the community are not explicitly listed in the provided documents. However, based on the insights from the documents, we can infer that the community values games that help them feel more connected to other people [2], engage with characters they love [4], and belong to the Multiplayer Online Battle Arena (MOBA) genre, such as League of Legends [3]. Given these preferences, it's reasonable to speculate that popular games within the community might include MOBA games with strong character engagement and potential for social connection, like League of Legends, as well as other games that emphasize character-driven narratives and multiplayer experiences.\", reflection=Reflection(missing=\"The exact names of the top 3 most popular video games within the community were not provided in the documents, requiring an inference based on the community's values and preferences outlined in the insights.\", superfluous=\"The specifics about the composition percentages and indexes from the documents may not directly answer the question about the top 3 most popular video games, making this information somewhat superfluous to the user's query.\"), search_queries=['top video games community popularity', 'most played video games in community', 'community favorite video games'], references=['./raw_data.csv (row 837)', './raw_data.csv (row 909)', './raw_data.csv (row 873)', './raw_data.csv (row 903)'])"
      ]
     },
     "execution_count": 36,
     "metadata": {},
     "output_type": "execute_result"
    }
   ],
   "source": [
    "first"
   ]
  },
  {
   "cell_type": "code",
   "execution_count": 22,
   "metadata": {},
   "outputs": [],
   "source": [
    "from langgraph.prebuilt.tool_executor import ToolInvocation, ToolExecutor\n",
    "from langchain.output_parsers.openai_tools import JsonOutputToolsParser\n",
    "from collections import defaultdict\n",
    "from langchain_core.tools import tool\n",
    "from typing import List\n",
    "import json\n",
    "\n",
    "parser = JsonOutputToolsParser(return_id=True)\n",
    "\n",
    "@tool\n",
    "def retriever_func(query: str) -> List[str]:\n",
    "    \"\"\"Retrieve relevant documents from the database.\"\"\"\n",
    "    response = retriever.get_relevant_documents(query)\n",
    "    res = []\n",
    "    for i in range(len(response)):\n",
    "        res.append({'page_content':response[i].page_content, 'metadata':response[i].metadata})\n",
    "    return res\n",
    "\n",
    "tool_executor = ToolExecutor([retriever_func])\n",
    "\n",
    "def execute_tools(state: List[BaseMessage]) -> List[BaseMessage]:\n",
    "    tool_invocation: AIMessage = state[-1]\n",
    "    print(tool_invocation)\n",
    "    parsed_tool_calls = parser.invoke(tool_invocation)\n",
    "    ids = []\n",
    "    tool_invocations = []\n",
    "    for parsed_call in parsed_tool_calls:\n",
    "        for query in parsed_call['args']['search_queries']:\n",
    "            tool_invocations.append(ToolInvocation(tool=\"retriever_func\",tool_input=query))\n",
    "            ids.append(parsed_call['id'])\n",
    "    outputs = tool_executor.batch(tool_invocations)\n",
    "    outputs_map = defaultdict(dict)\n",
    "    for id_, output, invocation in zip(ids, outputs, tool_invocations):\n",
    "        outputs_map[id_][invocation.tool_input] = output\n",
    "    return [\n",
    "        ToolMessage(content=json.dumps(query_outputs), tool_call_id=id_)\n",
    "        for id_, query_outputs in outputs_map.items()\n",
    "    ]"
   ]
  },
  {
   "cell_type": "code",
   "execution_count": 24,
   "metadata": {},
   "outputs": [
    {
     "data": {
      "text/plain": [
       "AnswerQuestion(answer=\"The top 3 most popular video games in the Disney Gamers and Park Lovers community, based on the insights derived from the data, seem to be those that align with the following attributes:\\n\\n1. Games that help you feel more connected to other people, with a composition of 23.66% [1].\\n2. Games that allow you to engage with characters you love, with a composition of 49.14% [2].\\n3. Multiplayer Online Battle Arena (MOBA) games, like League of Legends, with a composition of 8.43% [3].\\n\\nThese insights suggest that the community values connectivity, character engagement, and competitive gameplay, reflecting a diverse interest in gaming genres and experiences. It's important to note that while specific game titles aren't listed, the preferences indicate a strong inclination towards games that offer rich storytelling, community building, and strategic gameplay.\", reflection=Reflection(missing=\"The response fails to provide specific video game titles, which was the user's request. It instead focuses on attributes and genres preferred by the community. This might not fully satisfy the user's query for explicit game recommendations.\", superfluous='The response might have included too much detail on the percentages and attributes without directly answering the question about specific game titles. This could lead to confusion or dissatisfaction for the user seeking straightforward answers.'), search_queries=['most popular video game titles', 'video games with high community engagement', 'top multiplayer video games'], references=['./raw_data.csv (row 909)', './raw_data.csv (row 903)', './raw_data.csv (row 873)'])"
      ]
     },
     "execution_count": 24,
     "metadata": {},
     "output_type": "execute_result"
    }
   ],
   "source": [
    "first"
   ]
  },
  {
   "cell_type": "code",
   "execution_count": null,
   "metadata": {},
   "outputs": [],
   "source": []
  }
 ],
 "metadata": {
  "kernelspec": {
   "display_name": "Python 3",
   "language": "python",
   "name": "python3"
  },
  "language_info": {
   "codemirror_mode": {
    "name": "ipython",
    "version": 3
   },
   "file_extension": ".py",
   "mimetype": "text/x-python",
   "name": "python",
   "nbconvert_exporter": "python",
   "pygments_lexer": "ipython3",
   "version": "3.10.14"
  }
 },
 "nbformat": 4,
 "nbformat_minor": 2
}
