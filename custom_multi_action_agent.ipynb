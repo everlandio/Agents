{
 "cells": [
  {
   "cell_type": "code",
   "execution_count": 14,
   "metadata": {},
   "outputs": [],
   "source": [
    "from langchain.agents import AgentExecutor, BaseMultiActionAgent, Tool\n",
    "from langchain_community.utilities import SerpAPIWrapper\n",
    "import os\n",
    "\n",
    "os.environ['SERPAPI_API_KEY'] = '"
   ]
  },
  {
   "cell_type": "code",
   "execution_count": 15,
   "metadata": {},
   "outputs": [],
   "source": [
    "def random_word(query: str) -> str:\n",
    "    print(\"\\nNow I'm doing this!\")\n",
    "    return \"foo\""
   ]
  },
  {
   "cell_type": "code",
   "execution_count": 16,
   "metadata": {},
   "outputs": [],
   "source": [
    "search = SerpAPIWrapper()\n",
    "\n",
    "tools = [\n",
    "    Tool(\n",
    "        name=\"search\",\n",
    "        func=search.run,\n",
    "        description=\"useful for when you need to answer questions about current events\",\n",
    "    ),\n",
    "    Tool(\n",
    "        name=\"random_word\",\n",
    "        func=random_word,\n",
    "        description=\"call this to get a random word.\",\n",
    "    ),\n",
    "]"
   ]
  },
  {
   "cell_type": "code",
   "execution_count": 17,
   "metadata": {},
   "outputs": [],
   "source": [
    "from typing import Any, List, Tuple, Union\n",
    "from langchain.schema import AgentAction, AgentFinish\n",
    "from langchain_core.callbacks import Callbacks\n",
    "\n",
    "class MyAgent(BaseMultiActionAgent):\n",
    "    \"\"\"Fake Custom Agent\"\"\"\n",
    "\n",
    "    @property\n",
    "    def input_keys(self):\n",
    "        return [\"input\"]\n",
    "    \n",
    "    def plan(\n",
    "            self, intermediate_steps: List[Tuple[AgentAction, str]], **kwargs: Any \n",
    "    ) -> Union[List[AgentAction], AgentFinish]:\n",
    "        \"\"\"Given input, decided what to do.\n",
    "\n",
    "        Args:\n",
    "            intermediate_steps: Steps the LLM has taken to date,\n",
    "                along with observations\n",
    "            **kwargs: User inputs.\n",
    "\n",
    "        Returns:\n",
    "            Action specifying what tool to use.\n",
    "        \"\"\"\n",
    "        if len(intermediate_steps) == 0:\n",
    "            return [\n",
    "                AgentAction(tool=\"search\", tool_input=kwargs[\"input\"], log=\"\"),\n",
    "                AgentAction(tool=\"random_word\", tool_input=kwargs[\"input\"], log=\"\"),\n",
    "            ]\n",
    "        else:\n",
    "            return AgentFinish(return_values={\"output\": \"bar\"}, log=\"\")\n",
    "    \n",
    "    async def aplan(\n",
    "            self, intermediate_steps: List[Tuple[AgentAction, str]], **kwargs: Any\n",
    "            ) -> List[AgentAction] | AgentFinish:\n",
    "        if len(intermediate_steps) == 0:\n",
    "            return [\n",
    "                AgentAction(tool=\"search\", tool_input=kwargs[\"input\"], log=\"\"),\n",
    "                AgentAction(tool=\"random_word\", tool_input=kwargs[\"input\"], log=\"\"),\n",
    "            ]\n",
    "        else:\n",
    "            return AgentFinish(return_values={\"output\": \"bar\"}, log=\"\")"
   ]
  },
  {
   "cell_type": "code",
   "execution_count": 18,
   "metadata": {},
   "outputs": [],
   "source": [
    "agent = MyAgent()\n",
    "agent_executor = AgentExecutor.from_agent_and_tools(agent, tools, verbose=True)"
   ]
  },
  {
   "cell_type": "code",
   "execution_count": 19,
   "metadata": {},
   "outputs": [
    {
     "name": "stdout",
     "output_type": "stream",
     "text": [
      "\n",
      "\n",
      "\u001b[1m> Entering new AgentExecutor chain...\u001b[0m\n",
      "\u001b[32;1m\u001b[1;3m\u001b[0m\u001b[36;1m\u001b[1;3m{'type': 'weather_result', 'temperature': '39', 'unit': 'Fahrenheit', 'precipitation': '0%', 'humidity': '73%', 'wind': '5 mph', 'location': 'New York, NY', 'date': 'Tuesday 2:00 PM', 'weather': 'Cloudy'}\u001b[0m\u001b[32;1m\u001b[1;3m\u001b[0m\n",
      "Now I'm doing this!\n",
      "\u001b[33;1m\u001b[1;3mfoo\u001b[0m\u001b[32;1m\u001b[1;3m\u001b[0m\n",
      "\n",
      "\u001b[1m> Finished chain.\u001b[0m\n"
     ]
    },
    {
     "data": {
      "text/plain": [
       "'bar'"
      ]
     },
     "execution_count": 19,
     "metadata": {},
     "output_type": "execute_result"
    }
   ],
   "source": [
    "agent_executor.run(input=\"What is the weather in New York?\")"
   ]
  },
  {
   "cell_type": "code",
   "execution_count": null,
   "metadata": {},
   "outputs": [],
   "source": []
  }
 ],
 "metadata": {
  "kernelspec": {
   "display_name": "Python 3",
   "language": "python",
   "name": "python3"
  },
  "language_info": {
   "codemirror_mode": {
    "name": "ipython",
    "version": 3
   },
   "file_extension": ".py",
   "mimetype": "text/x-python",
   "name": "python",
   "nbconvert_exporter": "python",
   "pygments_lexer": "ipython3",
   "version": "3.10.13"
  }
 },
 "nbformat": 4,
 "nbformat_minor": 2
}
