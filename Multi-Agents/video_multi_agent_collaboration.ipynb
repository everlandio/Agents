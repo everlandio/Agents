{
 "cells": [
  {
   "cell_type": "code",
   "execution_count": 3,
   "metadata": {},
   "outputs": [],
   "source": [
    "from typing import Annotated, List, Tuple, Union\n",
    "import os\n",
    "import base64\n",
    "from langchain_core.tools import tool\n",
    "\n",
    "from langchain_openai import ChatOpenAI\n",
    "\n",
    "@tool\n",
    "def get_video_description(\n",
    "    question: str, frames_path: str\n",
    "    ):\n",
    "    \"\"\"Useful for identifying and descripting objects in an sequence of frames. Need a question and the path to the base64 frames.\"\"\"\n",
    "    base64Frames = []\n",
    "    for filename in os.listdir(frames_path):\n",
    "        with open(os.path.join(frames_path, filename), \"rb\") as image_file:\n",
    "            base64Frames.append(base64.b64encode(image_file.read()).decode(\"utf-8\"))\n",
    "    # select 8 frames equally spaced\n",
    "    base64Frames = base64Frames[:: len(base64Frames) // 8]\n",
    "    llm = ChatOpenAI(model=\"gpt-4-vision-preview\", max_tokens=1028)\n",
    "    PROMPT_MESSAGES = [\n",
    "        {\n",
    "            \"role\": \"system\",\n",
    "            \"content\": \"You are provided with a sequence of frames from a video in base64 format. Your task is to analyze that sequence and answer questions related to them.\",\n",
    "        },\n",
    "        {\n",
    "            \"role\": \"user\",\n",
    "            \"content\": [\n",
    "                question,\n",
    "                *map(lambda x: {\"image\": x, \"resize\": 768}, base64Frames),\n",
    "            ],\n",
    "        },\n",
    "    ]\n",
    "    response = llm.invoke(PROMPT_MESSAGES)\n",
    "    return response"
   ]
  },
  {
   "cell_type": "code",
   "execution_count": 2,
   "metadata": {},
   "outputs": [
    {
     "name": "stdout",
     "output_type": "stream",
     "text": [
      "content=\"This video shows a person cutting a pizza. The pizza is on a wooden board, and the person is wearing black clothing with a logo on the chest (though the full logo isn't visible) and white gloves. They are using a pizza cutter with a black handle to slice the pizza. The pizza has a golden-brown crust, cheese, and what appears to be red meat toppings, possibly pepperoni or sausage.\\n\\nThe sequence of frames suggests that the person is cutting the pizza into slices. The cutter is first positioned at the edge of the pizza, then pressed down through the pizza to cut it, and then lifted away after completing the cut. The person's hand placement and the movement of the pizza cutter indicate the action of slicing the pizza. The final frame shows the pizza with visible cut lines, indicating the slicing has been completed or is in progress.\"\n"
     ]
    }
   ],
   "source": [
    "print(get_video_description(question=\"Describe this video\", frames_path=\"./analyst1_frames\"))"
   ]
  },
  {
   "cell_type": "code",
   "execution_count": 4,
   "metadata": {},
   "outputs": [],
   "source": [
    "tools = [get_video_description]"
   ]
  },
  {
   "cell_type": "code",
   "execution_count": 5,
   "metadata": {},
   "outputs": [],
   "source": [
    "import json\n",
    "\n",
    "from langchain_core.messages import (\n",
    "    AIMessage,\n",
    "    BaseMessage,\n",
    "    ChatMessage,\n",
    "    FunctionMessage,\n",
    "    HumanMessage,\n",
    ")\n",
    "from langchain.tools.render import format_tool_to_openai_function\n",
    "from langchain_core.prompts import ChatPromptTemplate, MessagesPlaceholder\n",
    "from langgraph.graph import END, StateGraph\n",
    "from langgraph.prebuilt.tool_executor import ToolExecutor, ToolInvocation\n",
    "\n",
    "\n",
    "def create_agent(llm, tools, system_message: str):\n",
    "    \"\"\"Create an agent.\"\"\"\n",
    "    functions = [format_tool_to_openai_function(t) for t in tools]\n",
    "\n",
    "    prompt = ChatPromptTemplate.from_messages(\n",
    "        [\n",
    "            (\n",
    "                \"system\",\n",
    "                \"You are a helpful AI assistant that answers questions about a video, collaborating with other assistants.\"\n",
    "                \" Use the provided tools to see the video and progress towards answering the question.\"\n",
    "                \" If you are unable to fully answer, that's OK, another assistant with different knowledge of the video\"\n",
    "                \" will help where you left off. Execute what you can to make progress.\"\n",
    "                \" If you or any of the other assistants have the final answer or deliverable,\"\n",
    "                \" prefix your response with FINAL ANSWER so the team knows to stop.\"\n",
    "                \" You have access to the following tools: {tool_names}.\\n{system_message}\",\n",
    "            ),\n",
    "            MessagesPlaceholder(variable_name=\"messages\"),\n",
    "        ]\n",
    "    )\n",
    "    prompt = prompt.partial(system_message=system_message)\n",
    "    prompt = prompt.partial(tool_names=\", \".join([tool.name for tool in tools]))\n",
    "    return prompt | llm.bind_functions(functions)"
   ]
  },
  {
   "cell_type": "code",
   "execution_count": 6,
   "metadata": {},
   "outputs": [],
   "source": [
    "import operator\n",
    "from typing import Annotated, List, Sequence, Tuple, TypedDict, Union\n",
    "\n",
    "from langchain.agents import create_openai_functions_agent\n",
    "from langchain.tools.render import format_tool_to_openai_function\n",
    "from langchain_core.prompts import ChatPromptTemplate, MessagesPlaceholder\n",
    "\n",
    "from langchain_openai import ChatOpenAI\n",
    "from typing_extensions import TypedDict\n",
    "\n",
    "\n",
    "# This defines the object that is passed between each node\n",
    "# in the graph. We will create different nodes for each agent and tool\n",
    "class AgentState(TypedDict):\n",
    "    messages: Annotated[Sequence[BaseMessage], operator.add]\n",
    "    path_frames_1: str\n",
    "    path_frames_2: str\n",
    "    sender: str"
   ]
  },
  {
   "cell_type": "code",
   "execution_count": 7,
   "metadata": {},
   "outputs": [],
   "source": [
    "import functools\n",
    "\n",
    "\n",
    "# Helper function to create a node for a given agent\n",
    "def agent_node(state, agent, name):\n",
    "    result = agent.invoke(state)\n",
    "    # We convert the agent output into a format that is suitable to append to the global state\n",
    "    if isinstance(result, FunctionMessage):\n",
    "        pass\n",
    "    else:\n",
    "        result = HumanMessage(**result.dict(exclude={\"type\", \"name\"}), name=name)\n",
    "    return {\n",
    "        \"messages\": [result],\n",
    "        # Since we have a strict workflow, we can\n",
    "        # track the sender so we know who to pass to next.\n",
    "        \"sender\": name,\n",
    "    }\n",
    "\n",
    "\n",
    "llm = ChatOpenAI(model=\"gpt-4-1106-preview\")\n"
   ]
  },
  {
   "cell_type": "code",
   "execution_count": 53,
   "metadata": {},
   "outputs": [],
   "source": [
    "agent_1 = create_agent(\n",
    "    llm,\n",
    "    tools,\n",
    "    system_message=\"You have access to the first part of the movie. Wait for the second agent to provide the second part.\"\n",
    ")\n",
    "agent_1_node = functools.partial(agent_node, agent=agent_1, name=\"agent_1\")\n",
    "\n",
    "agent_2 = create_agent(\n",
    "    llm,\n",
    "    tools,\n",
    "    system_message=\"You have access to the second part of the movie. Wait for the first agent to provide the first part.\"\n",
    ")\n",
    "agent_2_node = functools.partial(agent_node, agent=agent_2, name=\"agent_2\")"
   ]
  },
  {
   "cell_type": "code",
   "execution_count": 54,
   "metadata": {},
   "outputs": [],
   "source": [
    "tool_executor = ToolExecutor(tools)"
   ]
  },
  {
   "cell_type": "code",
   "execution_count": 55,
   "metadata": {},
   "outputs": [],
   "source": [
    "def tool_node(state):\n",
    "    messages = state[\"messages\"]\n",
    "    last_message = messages[-1]\n",
    "    # print(last_message.name)\n",
    "    tool_input = json.loads(\n",
    "        last_message.additional_kwargs[\"function_call\"][\"arguments\"]\n",
    "    )\n",
    "    if len(tool_input) == 1 and \"__arg1\" in tool_input:\n",
    "        tool_input = next(iter(tool_input.values()))\n",
    "    tool_name = last_message.additional_kwargs[\"function_call\"][\"name\"]\n",
    "    if last_message.name == \"agent_1\":\n",
    "        tool_input[\"frames_path\"] = state[\"path_frames_1\"]\n",
    "    elif last_message.name == \"agent_2\":\n",
    "        tool_input[\"frames_path\"] = state[\"path_frames_2\"]\n",
    "    \n",
    "    action = ToolInvocation(\n",
    "        tool = tool_name,\n",
    "        tool_input = tool_input,\n",
    "    )\n",
    "    response = tool_executor.invoke(action)\n",
    "    function_message = FunctionMessage(\n",
    "        content=f\"{tool_name} response: {str(response)}\", name=action.tool\n",
    "    )\n",
    "    return{\"messages\": [function_message]}"
   ]
  },
  {
   "cell_type": "code",
   "execution_count": 56,
   "metadata": {},
   "outputs": [],
   "source": [
    "def router(state):\n",
    "    # This is the router\n",
    "    messages = state[\"messages\"]\n",
    "    last_message = messages[-1]\n",
    "    if \"function_call\" in last_message.additional_kwargs:\n",
    "        # The previus agent is invoking a tool\n",
    "        return \"call_tool\"\n",
    "    if \"FINAL ANSWER\" in last_message.content:\n",
    "        # Any agent decided the work is done\n",
    "        return \"end\"\n",
    "    return \"continue\""
   ]
  },
  {
   "cell_type": "code",
   "execution_count": 57,
   "metadata": {},
   "outputs": [],
   "source": [
    "workflow = StateGraph(AgentState)\n",
    "\n",
    "workflow.add_node(\"agent_1\", agent_1_node)\n",
    "workflow.add_node(\"agent_2\", agent_2_node)\n",
    "workflow.add_node(\"call_tool\", tool_node)\n",
    "\n",
    "workflow.add_conditional_edges(\n",
    "    \"agent_1\",\n",
    "    router,\n",
    "    {\"continue\": \"agent_2\", \"call_tool\": \"call_tool\", \"end\": END},\n",
    ")\n",
    "workflow.add_conditional_edges(\n",
    "    \"agent_2\",\n",
    "    router,\n",
    "    {\"continue\": \"agent_1\", \"call_tool\": \"call_tool\", \"end\": END},\n",
    ")\n",
    "workflow.add_conditional_edges(\n",
    "    \"call_tool\",\n",
    "    lambda x: x[\"sender\"],\n",
    "    {\"agent_1\": \"agent_1\", \"agent_2\": \"agent_2\"},\n",
    ")\n",
    "\n",
    "workflow.set_entry_point(\"agent_1\")\n",
    "graph = workflow.compile()"
   ]
  },
  {
   "cell_type": "code",
   "execution_count": 58,
   "metadata": {},
   "outputs": [
    {
     "name": "stdout",
     "output_type": "stream",
     "text": [
      "{'agent_1': {'messages': [HumanMessage(content='', additional_kwargs={'function_call': {'arguments': '{\"question\":\"Describe the video in detail.\",\"frames_path\":\"frames1\"}', 'name': 'get_video_description'}}, name='agent_1')], 'sender': 'agent_1'}}\n",
      "----\n",
      "{'call_tool': {'messages': [FunctionMessage(content='get_video_description response: content=\"The sequence of images shows a person cutting a pizza into slices. The person is wearing a black t-shirt and white gloves, indicating a focus on hygiene. The pizza is on a wooden board on a table, and the person uses a pizza cutter with a black handle to slice the pizza.\\\\n\\\\nHere\\'s a more detailed breakdown:\\\\n\\\\n1. In the first image, the person has just started to cut into the pizza, with their hands positioned to make a slice.\\\\n2. The second image captures the pizza cutter in motion, midway through slicing.\\\\n3. The third image shows the person completing the cut, with one hand holding the pizza in place.\\\\n4. In the fourth image, the pizza is fully sliced, and the pizza cutter is laid down on the table beside it.\\\\n5. The fifth image repeats the action of slicing, similar to the second image.\\\\n6. The sixth image mirrors the third image, showing the completion of another slice.\\\\n7. The seventh image is similar to the fourth, with the pizza fully sliced and the cutter resting on the table.\\\\n8. The eighth image shows the person beginning another cut.\\\\n9. The ninth image, like the fourth and seventh, shows the pizza with all the slices completed, and the pizza cutter resting on the table.\\\\n\\\\nThroughout the sequence, the actions suggest that the person is methodically cutting the pizza into equal slices, and the repetition of images implies that this might be part of a looped video or a series of similar actions being performed during the pizza cutting process. The backdrop is simple and nondescript, focusing the viewer\\'s attention on the pizza and the cutting action.\"', name='get_video_description')]}}\n",
      "----\n",
      "{'agent_1': {'messages': [HumanMessage(content=\"The video displays a person cutting a pizza into slices on a wooden board placed on a table. The individual is donning a black t-shirt and white gloves, emphasizing cleanliness. The tool used for cutting is a pizza cutter with a black handle. The actions captured in the video are methodical, aimed at dividing the pizza into equal portions. The following details are observed in the sequence of images:\\n\\n1. The person begins to slice the pizza, hands positioned for the task.\\n2. The pizza cutter is shown in motion, slicing through the pizza.\\n3. The individual completes a cut while holding the pizza steady.\\n4. The pizza appears fully sliced, with the cutter laid beside it on the table.\\n5. The action of slicing is repeated, resembling the earlier motion in the second image.\\n6. Another slice is completed, similar to the action in the third image.\\n7. The scene is akin to the fourth image, showing the pizza fully sliced with the cutter at rest.\\n8. The person initiates another cut into the pizza.\\n9. The final image reflects the completed slicing task, with the pizza cutter again resting on the table.\\n\\nThe sequence suggests a looping effect or a series of similar actions during the pizza cutting process. The simplicity of the backdrop keeps the viewer's attention on the pizza and the cutting action.\", name='agent_1')], 'sender': 'agent_1'}}\n",
      "----\n",
      "{'agent_2': {'messages': [HumanMessage(content='', additional_kwargs={'function_call': {'arguments': '{\"question\":\"Describe the second part of the video in detail.\",\"frames_path\":\"second_half_frames\"}', 'name': 'get_video_description'}}, name='agent_2')], 'sender': 'agent_2'}}\n",
      "----\n",
      "{'call_tool': {'messages': [FunctionMessage(content='get_video_description response: content=\"In the second part of the video, a person wearing a black apron and white gloves is garnishing a pizza. The pizza is on a wooden cutting board, and there is a pizza cutter with a black handle to the left of the board. The pizza appears to be already cooked, with melted cheese and toppings.\\\\n\\\\nThe person is sprinkling green toppings, which could be chopped herbs or green onions, over the surface of the pizza. Their movements are deliberate as they evenly distribute the green toppings by hand. Throughout this sequence, the person\\'s hands are visible, but their face is not shown, keeping the focus on the pizza and the garnishing activity.\\\\n\\\\nThe kitchen environment seems simple, with a neutral color palette and what looks like a tiled wall in the background. The natural lighting suggests the room is well-lit, possibly by daylight coming from the right side of the frame.\\\\n\\\\nOverall, this part of the video is likely showcasing the final steps of pizza preparation, where the finishing touches are added before the pizza is served or sliced.\"', name='get_video_description')]}}\n",
      "----\n",
      "{'agent_2': {'messages': [HumanMessage(content=\"In the second part of the video, the focus shifts to the garnishing of a pizza by a person wearing a black apron and white gloves, which continues the theme of cleanliness from the first part. The pizza, which appears to be freshly cooked, with melted cheese and other toppings, rests on a wooden cutting board. A pizza cutter with a black handle is visible on the left side of the board.\\n\\nThe individual is seen sprinkling green toppings over the pizza, possibly chopped herbs or green onions, ensuring an even distribution by hand. Although only the hands are shown, the movements are deliberate and careful, emphasizing the care taken in the final preparation steps. The face of the person is not visible, maintaining the viewer's focus on the pizza and garnishing process.\\n\\nThe setting of the kitchen is simple, with a neutral color palette and what appears to be a tiled wall in the background. The room is well-lit with natural light, suggesting the presence of daylight from the right side of the frame.\\n\\nThis part of the video likely represents the concluding phase of pizza preparation, with the person adding the finishing touches before the pizza is served or the slicing process begins.\", name='agent_2')], 'sender': 'agent_2'}}\n",
      "----\n",
      "{'agent_1': {'messages': [HumanMessage(content=\"FINAL ANSWER\\n\\nThe video comprises two parts, detailing the process of preparing and garnishing a pizza. In the first part, an individual is shown cutting a pizza into slices. The person is wearing a black t-shirt and white gloves, highlighting hygiene. A pizza cutter with a black handle is used to slice the pizza placed on a wooden board on a table. The sequence suggests the methodical cutting of the pizza into equal slices, potentially as part of a looped video or demonstrating repetitive actions during the slicing process.\\n\\nIn the second part, the same person, now donning a black apron along with the white gloves, is garnishing a cooked pizza with melted cheese and toppings. The pizza is on the same wooden cutting board, with the pizza cutter positioned to the left. Green toppings, which could be herbs or green onions, are being evenly distributed by hand over the pizza. The focus remains on the pizza and the garnishing activity, as the person's face is not shown. The kitchen setting is simple and well-lit by natural light, likely from the right side of the frame.\\n\\nOverall, the video portrays the final steps of pizza preparation, from cutting to garnishing, in a clean and methodical fashion before the pizza is served.\", name='agent_1')], 'sender': 'agent_1'}}\n",
      "----\n",
      "{'__end__': {'messages': [HumanMessage(content='Describe the video in detail.'), HumanMessage(content='', additional_kwargs={'function_call': {'arguments': '{\"question\":\"Describe the video in detail.\",\"frames_path\":\"frames1\"}', 'name': 'get_video_description'}}, name='agent_1'), FunctionMessage(content='get_video_description response: content=\"The sequence of images shows a person cutting a pizza into slices. The person is wearing a black t-shirt and white gloves, indicating a focus on hygiene. The pizza is on a wooden board on a table, and the person uses a pizza cutter with a black handle to slice the pizza.\\\\n\\\\nHere\\'s a more detailed breakdown:\\\\n\\\\n1. In the first image, the person has just started to cut into the pizza, with their hands positioned to make a slice.\\\\n2. The second image captures the pizza cutter in motion, midway through slicing.\\\\n3. The third image shows the person completing the cut, with one hand holding the pizza in place.\\\\n4. In the fourth image, the pizza is fully sliced, and the pizza cutter is laid down on the table beside it.\\\\n5. The fifth image repeats the action of slicing, similar to the second image.\\\\n6. The sixth image mirrors the third image, showing the completion of another slice.\\\\n7. The seventh image is similar to the fourth, with the pizza fully sliced and the cutter resting on the table.\\\\n8. The eighth image shows the person beginning another cut.\\\\n9. The ninth image, like the fourth and seventh, shows the pizza with all the slices completed, and the pizza cutter resting on the table.\\\\n\\\\nThroughout the sequence, the actions suggest that the person is methodically cutting the pizza into equal slices, and the repetition of images implies that this might be part of a looped video or a series of similar actions being performed during the pizza cutting process. The backdrop is simple and nondescript, focusing the viewer\\'s attention on the pizza and the cutting action.\"', name='get_video_description'), HumanMessage(content=\"The video displays a person cutting a pizza into slices on a wooden board placed on a table. The individual is donning a black t-shirt and white gloves, emphasizing cleanliness. The tool used for cutting is a pizza cutter with a black handle. The actions captured in the video are methodical, aimed at dividing the pizza into equal portions. The following details are observed in the sequence of images:\\n\\n1. The person begins to slice the pizza, hands positioned for the task.\\n2. The pizza cutter is shown in motion, slicing through the pizza.\\n3. The individual completes a cut while holding the pizza steady.\\n4. The pizza appears fully sliced, with the cutter laid beside it on the table.\\n5. The action of slicing is repeated, resembling the earlier motion in the second image.\\n6. Another slice is completed, similar to the action in the third image.\\n7. The scene is akin to the fourth image, showing the pizza fully sliced with the cutter at rest.\\n8. The person initiates another cut into the pizza.\\n9. The final image reflects the completed slicing task, with the pizza cutter again resting on the table.\\n\\nThe sequence suggests a looping effect or a series of similar actions during the pizza cutting process. The simplicity of the backdrop keeps the viewer's attention on the pizza and the cutting action.\", name='agent_1'), HumanMessage(content='', additional_kwargs={'function_call': {'arguments': '{\"question\":\"Describe the second part of the video in detail.\",\"frames_path\":\"second_half_frames\"}', 'name': 'get_video_description'}}, name='agent_2'), FunctionMessage(content='get_video_description response: content=\"In the second part of the video, a person wearing a black apron and white gloves is garnishing a pizza. The pizza is on a wooden cutting board, and there is a pizza cutter with a black handle to the left of the board. The pizza appears to be already cooked, with melted cheese and toppings.\\\\n\\\\nThe person is sprinkling green toppings, which could be chopped herbs or green onions, over the surface of the pizza. Their movements are deliberate as they evenly distribute the green toppings by hand. Throughout this sequence, the person\\'s hands are visible, but their face is not shown, keeping the focus on the pizza and the garnishing activity.\\\\n\\\\nThe kitchen environment seems simple, with a neutral color palette and what looks like a tiled wall in the background. The natural lighting suggests the room is well-lit, possibly by daylight coming from the right side of the frame.\\\\n\\\\nOverall, this part of the video is likely showcasing the final steps of pizza preparation, where the finishing touches are added before the pizza is served or sliced.\"', name='get_video_description'), HumanMessage(content=\"In the second part of the video, the focus shifts to the garnishing of a pizza by a person wearing a black apron and white gloves, which continues the theme of cleanliness from the first part. The pizza, which appears to be freshly cooked, with melted cheese and other toppings, rests on a wooden cutting board. A pizza cutter with a black handle is visible on the left side of the board.\\n\\nThe individual is seen sprinkling green toppings over the pizza, possibly chopped herbs or green onions, ensuring an even distribution by hand. Although only the hands are shown, the movements are deliberate and careful, emphasizing the care taken in the final preparation steps. The face of the person is not visible, maintaining the viewer's focus on the pizza and garnishing process.\\n\\nThe setting of the kitchen is simple, with a neutral color palette and what appears to be a tiled wall in the background. The room is well-lit with natural light, suggesting the presence of daylight from the right side of the frame.\\n\\nThis part of the video likely represents the concluding phase of pizza preparation, with the person adding the finishing touches before the pizza is served or the slicing process begins.\", name='agent_2'), HumanMessage(content=\"FINAL ANSWER\\n\\nThe video comprises two parts, detailing the process of preparing and garnishing a pizza. In the first part, an individual is shown cutting a pizza into slices. The person is wearing a black t-shirt and white gloves, highlighting hygiene. A pizza cutter with a black handle is used to slice the pizza placed on a wooden board on a table. The sequence suggests the methodical cutting of the pizza into equal slices, potentially as part of a looped video or demonstrating repetitive actions during the slicing process.\\n\\nIn the second part, the same person, now donning a black apron along with the white gloves, is garnishing a cooked pizza with melted cheese and toppings. The pizza is on the same wooden cutting board, with the pizza cutter positioned to the left. Green toppings, which could be herbs or green onions, are being evenly distributed by hand over the pizza. The focus remains on the pizza and the garnishing activity, as the person's face is not shown. The kitchen setting is simple and well-lit by natural light, likely from the right side of the frame.\\n\\nOverall, the video portrays the final steps of pizza preparation, from cutting to garnishing, in a clean and methodical fashion before the pizza is served.\", name='agent_1')], 'path_frames_1': './analyst1_frames', 'path_frames_2': './analyst2_frames', 'sender': 'agent_1'}}\n",
      "----\n"
     ]
    }
   ],
   "source": [
    "for s in graph.stream(\n",
    "    {\n",
    "        \"messages\": [\n",
    "            HumanMessage(\n",
    "                content=\"Describe the video in detail.\"\n",
    "            )\n",
    "        ],\n",
    "        \"path_frames_1\": \"./analyst1_frames\",\n",
    "        \"path_frames_2\": \"./analyst2_frames\",\n",
    "    },\n",
    "    # Maximum number of steps to take in the graph\n",
    "    {\"recursion_limit\": 150},\n",
    "):\n",
    "    print(s)\n",
    "    print(\"----\")\n"
   ]
  },
  {
   "cell_type": "code",
   "execution_count": 61,
   "metadata": {},
   "outputs": [
    {
     "name": "stdout",
     "output_type": "stream",
     "text": [
      "FINAL ANSWER\n",
      "\n",
      "The video comprises two parts, detailing the process of preparing and garnishing a pizza. In the first part, an individual is shown cutting a pizza into slices. The person is wearing a black t-shirt and white gloves, highlighting hygiene. A pizza cutter with a black handle is used to slice the pizza placed on a wooden board on a table. The sequence suggests the methodical cutting of the pizza into equal slices, potentially as part of a looped video or demonstrating repetitive actions during the slicing process.\n",
      "\n",
      "In the second part, the same person, now donning a black apron along with the white gloves, is garnishing a cooked pizza with melted cheese and toppings. The pizza is on the same wooden cutting board, with the pizza cutter positioned to the left. Green toppings, which could be herbs or green onions, are being evenly distributed by hand over the pizza. The focus remains on the pizza and the garnishing activity, as the person's face is not shown. The kitchen setting is simple and well-lit by natural light, likely from the right side of the frame.\n",
      "\n",
      "Overall, the video portrays the final steps of pizza preparation, from cutting to garnishing, in a clean and methodical fashion before the pizza is served.\n"
     ]
    }
   ],
   "source": [
    "content=\"FINAL ANSWER\\n\\nThe video comprises two parts, detailing the process of preparing and garnishing a pizza. In the first part, an individual is shown cutting a pizza into slices. The person is wearing a black t-shirt and white gloves, highlighting hygiene. A pizza cutter with a black handle is used to slice the pizza placed on a wooden board on a table. The sequence suggests the methodical cutting of the pizza into equal slices, potentially as part of a looped video or demonstrating repetitive actions during the slicing process.\\n\\nIn the second part, the same person, now donning a black apron along with the white gloves, is garnishing a cooked pizza with melted cheese and toppings. The pizza is on the same wooden cutting board, with the pizza cutter positioned to the left. Green toppings, which could be herbs or green onions, are being evenly distributed by hand over the pizza. The focus remains on the pizza and the garnishing activity, as the person's face is not shown. The kitchen setting is simple and well-lit by natural light, likely from the right side of the frame.\\n\\nOverall, the video portrays the final steps of pizza preparation, from cutting to garnishing, in a clean and methodical fashion before the pizza is served.\"\n",
    "print(content)"
   ]
  },
  {
   "cell_type": "code",
   "execution_count": null,
   "metadata": {},
   "outputs": [],
   "source": []
  }
 ],
 "metadata": {
  "kernelspec": {
   "display_name": "Python 3",
   "language": "python",
   "name": "python3"
  },
  "language_info": {
   "codemirror_mode": {
    "name": "ipython",
    "version": 3
   },
   "file_extension": ".py",
   "mimetype": "text/x-python",
   "name": "python",
   "nbconvert_exporter": "python",
   "pygments_lexer": "ipython3",
   "version": "3.10.14"
  }
 },
 "nbformat": 4,
 "nbformat_minor": 2
}
