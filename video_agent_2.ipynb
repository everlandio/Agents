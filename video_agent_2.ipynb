{
 "cells": [
  {
   "cell_type": "code",
   "execution_count": 1,
   "metadata": {},
   "outputs": [],
   "source": [
    "from typing import Annotated, List, Tuple, Union\n",
    "from langchain_core.tools import tool\n",
    "from langchain_openai import ChatOpenAI\n",
    "import threading\n",
    "import base64\n",
    "import os\n",
    "\n",
    "@tool\n",
    "def get_video_description(\n",
    "    question: str, path: str\n",
    "    ):\n",
    "    \"\"\"Useful for identifying and descripting objects in an sequence of frames. Need a question and the path to the frames.\"\"\"\n",
    "    base64Frames = []\n",
    "    for filename in os.listdir(path):\n",
    "        with open(os.path.join(path, filename), \"rb\") as image_file:\n",
    "            base64Frames.append(base64.b64encode(image_file.read()).decode(\"utf-8\"))\n",
    "    llm = ChatOpenAI(model=\"gpt-4-vision-preview\", max_tokens=1028)\n",
    "    PROMPT_MESSAGES = [\n",
    "        {\n",
    "            \"role\": \"system\",\n",
    "            \"content\": \"You are provided with a sequence of frames from a video in base64 format. Your task is to analyze that sequence and answer questions related to them.\",\n",
    "        },\n",
    "        {\n",
    "            \"role\": \"user\",\n",
    "            \"content\": [\n",
    "                question,\n",
    "                *map(lambda x: {\"image\": x, \"resize\": 768}, base64Frames[0::50]),\n",
    "            ],\n",
    "        },\n",
    "    ]\n",
    "    response = llm.invoke(PROMPT_MESSAGES)\n",
    "    return response"
   ]
  },
  {
   "cell_type": "code",
   "execution_count": 2,
   "metadata": {},
   "outputs": [],
   "source": [
    "import cv2\n",
    "import os\n",
    "\n",
    "@tool\n",
    "def split_video(\n",
    "    video_path: str\n",
    "    ):\n",
    "    \"\"\"Split a video into 2 sets of frames, save them to analysts' folders and return the names of the folders.\"\"\"\n",
    "    print(\"success\")\n",
    "    vidcap = cv2.VideoCapture(video_path)\n",
    "    success,image = vidcap.read()\n",
    "    count = 0\n",
    "    frames = []\n",
    "    # create the folders for the analysts\n",
    "    os.makedirs(\"analyst1_frames\", exist_ok=True)\n",
    "    os.makedirs(\"analyst2_frames\", exist_ok=True)\n",
    "    while success:\n",
    "        frames.append(image)\n",
    "        success,image = vidcap.read()\n",
    "        count += 1\n",
    "    # Divide the frames into 2 sets\n",
    "    frames1 = frames[:len(frames)//2]\n",
    "    frames2 = frames[len(frames)//2:]\n",
    "    # Save the frames to analysts' folders\n",
    "    for i, frame in enumerate(frames1):\n",
    "        cv2.imwrite(f\"analyst1_frames/{i}.jpg\", frame)\n",
    "    for i, frame in enumerate(frames2):\n",
    "        cv2.imwrite(f\"analyst2_frames/{i}.jpg\", frame)\n",
    "    return [\"analyst1_frames\", \"analyst2_frames\"]"
   ]
  },
  {
   "cell_type": "code",
   "execution_count": 3,
   "metadata": {},
   "outputs": [],
   "source": [
    "tools = [get_video_description, split_video]"
   ]
  },
  {
   "cell_type": "code",
   "execution_count": 4,
   "metadata": {},
   "outputs": [],
   "source": [
    "from langchain import hub\n",
    "from langchain.agents import create_openai_functions_agent\n",
    "from langchain_openai.chat_models import ChatOpenAI\n",
    "from langchain_core.messages import BaseMessage, HumanMessage\n",
    "from langchain_core.prompts import ChatPromptTemplate, MessagesPlaceholder\n",
    "\n",
    "system_prompt=(\n",
    "    \"Your task is to analyze a video and answer questions from the user. First you must divide it into two equal parts and then using a descriptive tool to analyze each part. Once both parts are analyzed, you need to aggregate the findings from both analyses into a comprehensive summary.\"\n",
    "    \"Step 1: Divide the Video\"\n",
    "    \"You are provided with a video file path.\"\n",
    "    \"Use the split_video tool to divide this video into two equal parts. The tool is invoked with the command: split_video('example_video.mp4').\"\n",
    "    \"The split_video tool will return the path of two folders, representing the first and second halves of the video, respectively.\"\n",
    "    \"Step 2: Analyze Each Part\"\n",
    "    \"Once the video is divided, use the get_video_description tool to analyze each part.\"\n",
    "    \"Invoke the tool for the first part using the command: get_video_description('folder_path_1').\"\n",
    "    \"Repeat the process for the second part with the command: get_video_description('folder_path_2').\"\n",
    "    \"Each call to get_video_description will return a description of the respective video part.\"\n",
    "    \"Step 3: Aggregate Findings\"\n",
    "    \"After receiving the descriptions for both parts, your next task is to aggregate these findings.\"\n",
    "    \"Combine the key points from each description to form a comprehensive summary and answer the user questions.\"\n",
    "    \"Focus on highlighting any significant observations, thematic elements, or notable content from each part of the video.\"\n",
    "    \"Step 4: Final Submission\"\n",
    "    \"Compile your aggregated summary into a final report.\"\n",
    "    \"Ensure that the report is clear and concise, providing a complete understanding of the entire video's content based on your analysis.\"\n",
    "    \"When the report is ready, submit it with the title: “Comprehensive Analysis of example_video.mp4”.\"\n",
    "    \"Remember: Accuracy and thoroughness are key in this task. Ensure that you capture all relevant details in your analysis and report.\"\n",
    "    \"When finished, respond with FINISH.\"\n",
    ")\n",
    "\n",
    "prompt = ChatPromptTemplate.from_messages(\n",
    "    [\n",
    "        (\n",
    "            \"system\",\n",
    "            system_prompt,\n",
    "        ),\n",
    "        (\"user\", \"{input}\"),\n",
    "        MessagesPlaceholder(variable_name=\"chat_history\"),\n",
    "        MessagesPlaceholder(variable_name=\"agent_scratchpad\"),\n",
    "    ]\n",
    ")\n",
    "\n",
    "# Choose the LLM that will drive the agent\n",
    "llm = ChatOpenAI(model=\"gpt-3.5-turbo-1106\", streaming=True)\n",
    "\n",
    "# Construct the OpenAI Functions agent\n",
    "agent_runnable = create_openai_functions_agent(llm, tools, prompt)"
   ]
  },
  {
   "cell_type": "code",
   "execution_count": 5,
   "metadata": {},
   "outputs": [],
   "source": [
    "from typing import TypedDict, Annotated, List, Union\n",
    "from langchain_core.agents import AgentAction, AgentFinish\n",
    "from langchain_core.messages import BaseMessage\n",
    "import operator\n",
    "import base64\n",
    "class AgentState(TypedDict):\n",
    "    input: str\n",
    "    chat_history: list[BaseMessage]\n",
    "    agent_outcome: Union[AgentAction, AgentFinish, None]\n",
    "    intermediate_steps: Annotated[list[tuple[AgentAction, str]], operator.add]"
   ]
  },
  {
   "cell_type": "code",
   "execution_count": 6,
   "metadata": {},
   "outputs": [],
   "source": [
    "from langgraph.prebuilt.tool_executor import ToolExecutor\n",
    "\n",
    "tool_executor = ToolExecutor(tools)\n",
    "\n",
    "def run_agent(data):\n",
    "    agent_outcome = agent_runnable.invoke(data)\n",
    "    return {\"agent_outcome\": agent_outcome}\n",
    "\n",
    "def execute_tools(data):\n",
    "    agent_action = data['agent_outcome']\n",
    "    output = tool_executor.invoke(agent_action)\n",
    "    return {\"intermediate_steps\": [(agent_action, str(output))]}\n",
    "\n",
    "def should_continue(data):\n",
    "    if isinstance(data[\"agent_outcome\"], AgentFinish):\n",
    "        return \"end\"\n",
    "    else:\n",
    "        return \"continue\""
   ]
  },
  {
   "cell_type": "code",
   "execution_count": 7,
   "metadata": {},
   "outputs": [],
   "source": [
    "from langgraph.graph import END, StateGraph\n",
    "\n",
    "workflow = StateGraph(AgentState)\n",
    "\n",
    "workflow.add_node(\"agent\", run_agent)\n",
    "workflow.add_node(\"action\", execute_tools)\n",
    "\n",
    "workflow.set_entry_point(\"agent\")\n",
    "\n",
    "workflow.add_conditional_edges(\n",
    "    \"agent\",\n",
    "    should_continue,\n",
    "    {\n",
    "        \"continue\": \"action\",\n",
    "        \"end\": END,\n",
    "    },\n",
    ")\n",
    "\n",
    "workflow.add_edge(\"action\", \"agent\")\n",
    "app = workflow.compile()"
   ]
  },
  {
   "cell_type": "code",
   "execution_count": 8,
   "metadata": {},
   "outputs": [
    {
     "name": "stdout",
     "output_type": "stream",
     "text": [
      "{'agent_outcome': AgentActionMessageLog(tool='split_video', tool_input={'video_path': './hosptial.mp4'}, log=\"\\nInvoking: `split_video` with `{'video_path': './hosptial.mp4'}`\\n\\n\\n\", message_log=[AIMessage(content='', additional_kwargs={'function_call': {'arguments': '{\"video_path\":\"./hosptial.mp4\"}', 'name': 'split_video'}})])}\n",
      "----\n",
      "success\n",
      "{'intermediate_steps': [(AgentActionMessageLog(tool='split_video', tool_input={'video_path': './hosptial.mp4'}, log=\"\\nInvoking: `split_video` with `{'video_path': './hosptial.mp4'}`\\n\\n\\n\", message_log=[AIMessage(content='', additional_kwargs={'function_call': {'arguments': '{\"video_path\":\"./hosptial.mp4\"}', 'name': 'split_video'}})]), \"['analyst1_frames', 'analyst2_frames']\")]}\n",
      "----\n",
      "{'agent_outcome': AgentActionMessageLog(tool='get_video_description', tool_input={'question': 'Please describe the first half of the video.', 'path': 'analyst1_frames'}, log=\"\\nInvoking: `get_video_description` with `{'question': 'Please describe the first half of the video.', 'path': 'analyst1_frames'}`\\n\\n\\n\", message_log=[AIMessage(content='', additional_kwargs={'function_call': {'arguments': '{\"question\":\"Please describe the first half of the video.\",\"path\":\"analyst1_frames\"}', 'name': 'get_video_description'}})])}\n",
      "----\n",
      "{'intermediate_steps': [(AgentActionMessageLog(tool='get_video_description', tool_input={'question': 'Please describe the first half of the video.', 'path': 'analyst1_frames'}, log=\"\\nInvoking: `get_video_description` with `{'question': 'Please describe the first half of the video.', 'path': 'analyst1_frames'}`\\n\\n\\n\", message_log=[AIMessage(content='', additional_kwargs={'function_call': {'arguments': '{\"question\":\"Please describe the first half of the video.\",\"path\":\"analyst1_frames\"}', 'name': 'get_video_description'}})]), 'content=\\'The sequence of images provided appears to depict two different scenes, possibly from an older video given the vintage look of the frames. Here\\\\\\'s a description of what is shown in the images:\\\\n\\\\n1. Several frames feature a close-up of a person wearing an oxygen mask with the label \"ARMY EMERGENCY\" on the rebreather bag. The mask appears to be an older military or medical-style oxygen mask, and the person is seen from different angles, possibly suggesting a focus on the mask and its use.\\\\n\\\\n2. Interspersed between the close-up shots of the oxygen mask are images of a person slicing a pizza. The pizza is on a wooden board, and the person cutting it is wearing gloves, suggesting a food preparation setting. The pizza looks freshly baked with melted cheese and toppings.\\\\n\\\\nThe juxtaposition of these two scenes could imply a thematic or narrative contrast in the original video content, but without additional context, the connection or storyline is not clear. The images alternate between the mask and the pizza, which might suggest an intentional editing choice to create a parallel or to emphasize a specific point.\\'')]}\n",
      "----\n",
      "{'agent_outcome': AgentActionMessageLog(tool='get_video_description', tool_input={'question': 'Please describe the second half of the video.', 'path': 'analyst2_frames'}, log=\"\\nInvoking: `get_video_description` with `{'question': 'Please describe the second half of the video.', 'path': 'analyst2_frames'}`\\n\\n\\n\", message_log=[AIMessage(content='', additional_kwargs={'function_call': {'arguments': '{\"question\":\"Please describe the second half of the video.\",\"path\":\"analyst2_frames\"}', 'name': 'get_video_description'}})])}\n",
      "----\n",
      "{'intermediate_steps': [(AgentActionMessageLog(tool='get_video_description', tool_input={'question': 'Please describe the second half of the video.', 'path': 'analyst2_frames'}, log=\"\\nInvoking: `get_video_description` with `{'question': 'Please describe the second half of the video.', 'path': 'analyst2_frames'}`\\n\\n\\n\", message_log=[AIMessage(content='', additional_kwargs={'function_call': {'arguments': '{\"question\":\"Please describe the second half of the video.\",\"path\":\"analyst2_frames\"}', 'name': 'get_video_description'}})]), 'content=\"The second half of the video appears to alternate between two different settings.\\\\n\\\\nOne setting seems to be a laboratory or workshop environment from an older era, possibly mid-20th century, judging by the style of the equipment and the clothing of the person in the scene. We see various shots of scientific or technical equipment, including what looks like a close-up of an apparatus with a gauge, possibly related to some kind of experimental setup or measurement device. There are glass tubes and other laboratory equipment in the background. A person, likely a technician or scientist, is seen working with or adjusting the equipment.\\\\n\\\\nThe other setting is a modern kitchen where we see a pizza on a wooden board. Someone wearing gloves is garnishing or perhaps adding final toppings to the pizza, which looks freshly baked with melted cheese and green toppings that might be bell peppers or herbs.\\\\n\\\\nThe video jumps back and forth between these two scenes, suggesting a contrast or comparison, but without context, it\\'s difficult to determine the relationship or narrative connecting the laboratory equipment with the pizza preparation. The juxtaposition is unusual and could be part of a documentary, educational content, or perhaps an artistic or conceptual piece.\"')]}\n",
      "----\n",
      "{'agent_outcome': AgentFinish(return_values={'output': 'The video \"hospital.mp4\" has been split into two parts for analysis. Here are the key findings from each part:\\n\\nFirst Half of the Video:\\nThe first half of the video features two distinct scenes. The first scene depicts a person wearing an older military or medical-style oxygen mask labeled \"ARMY EMERGENCY\" on the rebreather bag. The person is shown from various angles, suggesting a focus on the mask and its use. Interspersed with these shots are images of a person slicing a freshly baked pizza on a wooden board. The pizza is being prepared in a food setting, and the person cutting it is wearing gloves. The alternating sequence of the oxygen mask and pizza suggests a thematic or narrative contrast, although the specific connection or storyline is not clear.\\n\\nSecond Half of the Video:\\nThe second half of the video alternates between two settings. The first setting appears to be a laboratory or workshop environment from an older era, possibly mid-20th century, featuring scientific or technical equipment and a person working with the equipment. The other setting is a modern kitchen where a pizza on a wooden board is being garnished or prepared with final toppings by someone wearing gloves. The pizza looks freshly baked with melted cheese and green toppings, possibly bell peppers or herbs. The juxtaposition of the laboratory equipment with the pizza preparation suggests a contrast or comparison, but the specific relationship or narrative remains unclear.\\n\\nIn summary, the video consists of alternating sequences featuring an older military-style oxygen mask and pizza preparation, as well as laboratory equipment from an older era and modern kitchen pizza preparation. The thematic or narrative connections between these scenes are ambiguous, leaving room for interpretation regarding the intended message or storyline of the video.'}, log='The video \"hospital.mp4\" has been split into two parts for analysis. Here are the key findings from each part:\\n\\nFirst Half of the Video:\\nThe first half of the video features two distinct scenes. The first scene depicts a person wearing an older military or medical-style oxygen mask labeled \"ARMY EMERGENCY\" on the rebreather bag. The person is shown from various angles, suggesting a focus on the mask and its use. Interspersed with these shots are images of a person slicing a freshly baked pizza on a wooden board. The pizza is being prepared in a food setting, and the person cutting it is wearing gloves. The alternating sequence of the oxygen mask and pizza suggests a thematic or narrative contrast, although the specific connection or storyline is not clear.\\n\\nSecond Half of the Video:\\nThe second half of the video alternates between two settings. The first setting appears to be a laboratory or workshop environment from an older era, possibly mid-20th century, featuring scientific or technical equipment and a person working with the equipment. The other setting is a modern kitchen where a pizza on a wooden board is being garnished or prepared with final toppings by someone wearing gloves. The pizza looks freshly baked with melted cheese and green toppings, possibly bell peppers or herbs. The juxtaposition of the laboratory equipment with the pizza preparation suggests a contrast or comparison, but the specific relationship or narrative remains unclear.\\n\\nIn summary, the video consists of alternating sequences featuring an older military-style oxygen mask and pizza preparation, as well as laboratory equipment from an older era and modern kitchen pizza preparation. The thematic or narrative connections between these scenes are ambiguous, leaving room for interpretation regarding the intended message or storyline of the video.')}\n",
      "----\n",
      "{'input': 'Describe this video in details. Its path is ./hosptial.mp4', 'chat_history': [], 'agent_outcome': AgentFinish(return_values={'output': 'The video \"hospital.mp4\" has been split into two parts for analysis. Here are the key findings from each part:\\n\\nFirst Half of the Video:\\nThe first half of the video features two distinct scenes. The first scene depicts a person wearing an older military or medical-style oxygen mask labeled \"ARMY EMERGENCY\" on the rebreather bag. The person is shown from various angles, suggesting a focus on the mask and its use. Interspersed with these shots are images of a person slicing a freshly baked pizza on a wooden board. The pizza is being prepared in a food setting, and the person cutting it is wearing gloves. The alternating sequence of the oxygen mask and pizza suggests a thematic or narrative contrast, although the specific connection or storyline is not clear.\\n\\nSecond Half of the Video:\\nThe second half of the video alternates between two settings. The first setting appears to be a laboratory or workshop environment from an older era, possibly mid-20th century, featuring scientific or technical equipment and a person working with the equipment. The other setting is a modern kitchen where a pizza on a wooden board is being garnished or prepared with final toppings by someone wearing gloves. The pizza looks freshly baked with melted cheese and green toppings, possibly bell peppers or herbs. The juxtaposition of the laboratory equipment with the pizza preparation suggests a contrast or comparison, but the specific relationship or narrative remains unclear.\\n\\nIn summary, the video consists of alternating sequences featuring an older military-style oxygen mask and pizza preparation, as well as laboratory equipment from an older era and modern kitchen pizza preparation. The thematic or narrative connections between these scenes are ambiguous, leaving room for interpretation regarding the intended message or storyline of the video.'}, log='The video \"hospital.mp4\" has been split into two parts for analysis. Here are the key findings from each part:\\n\\nFirst Half of the Video:\\nThe first half of the video features two distinct scenes. The first scene depicts a person wearing an older military or medical-style oxygen mask labeled \"ARMY EMERGENCY\" on the rebreather bag. The person is shown from various angles, suggesting a focus on the mask and its use. Interspersed with these shots are images of a person slicing a freshly baked pizza on a wooden board. The pizza is being prepared in a food setting, and the person cutting it is wearing gloves. The alternating sequence of the oxygen mask and pizza suggests a thematic or narrative contrast, although the specific connection or storyline is not clear.\\n\\nSecond Half of the Video:\\nThe second half of the video alternates between two settings. The first setting appears to be a laboratory or workshop environment from an older era, possibly mid-20th century, featuring scientific or technical equipment and a person working with the equipment. The other setting is a modern kitchen where a pizza on a wooden board is being garnished or prepared with final toppings by someone wearing gloves. The pizza looks freshly baked with melted cheese and green toppings, possibly bell peppers or herbs. The juxtaposition of the laboratory equipment with the pizza preparation suggests a contrast or comparison, but the specific relationship or narrative remains unclear.\\n\\nIn summary, the video consists of alternating sequences featuring an older military-style oxygen mask and pizza preparation, as well as laboratory equipment from an older era and modern kitchen pizza preparation. The thematic or narrative connections between these scenes are ambiguous, leaving room for interpretation regarding the intended message or storyline of the video.'), 'intermediate_steps': [(AgentActionMessageLog(tool='split_video', tool_input={'video_path': './hosptial.mp4'}, log=\"\\nInvoking: `split_video` with `{'video_path': './hosptial.mp4'}`\\n\\n\\n\", message_log=[AIMessage(content='', additional_kwargs={'function_call': {'arguments': '{\"video_path\":\"./hosptial.mp4\"}', 'name': 'split_video'}})]), \"['analyst1_frames', 'analyst2_frames']\"), (AgentActionMessageLog(tool='get_video_description', tool_input={'question': 'Please describe the first half of the video.', 'path': 'analyst1_frames'}, log=\"\\nInvoking: `get_video_description` with `{'question': 'Please describe the first half of the video.', 'path': 'analyst1_frames'}`\\n\\n\\n\", message_log=[AIMessage(content='', additional_kwargs={'function_call': {'arguments': '{\"question\":\"Please describe the first half of the video.\",\"path\":\"analyst1_frames\"}', 'name': 'get_video_description'}})]), 'content=\\'The sequence of images provided appears to depict two different scenes, possibly from an older video given the vintage look of the frames. Here\\\\\\'s a description of what is shown in the images:\\\\n\\\\n1. Several frames feature a close-up of a person wearing an oxygen mask with the label \"ARMY EMERGENCY\" on the rebreather bag. The mask appears to be an older military or medical-style oxygen mask, and the person is seen from different angles, possibly suggesting a focus on the mask and its use.\\\\n\\\\n2. Interspersed between the close-up shots of the oxygen mask are images of a person slicing a pizza. The pizza is on a wooden board, and the person cutting it is wearing gloves, suggesting a food preparation setting. The pizza looks freshly baked with melted cheese and toppings.\\\\n\\\\nThe juxtaposition of these two scenes could imply a thematic or narrative contrast in the original video content, but without additional context, the connection or storyline is not clear. The images alternate between the mask and the pizza, which might suggest an intentional editing choice to create a parallel or to emphasize a specific point.\\''), (AgentActionMessageLog(tool='get_video_description', tool_input={'question': 'Please describe the second half of the video.', 'path': 'analyst2_frames'}, log=\"\\nInvoking: `get_video_description` with `{'question': 'Please describe the second half of the video.', 'path': 'analyst2_frames'}`\\n\\n\\n\", message_log=[AIMessage(content='', additional_kwargs={'function_call': {'arguments': '{\"question\":\"Please describe the second half of the video.\",\"path\":\"analyst2_frames\"}', 'name': 'get_video_description'}})]), 'content=\"The second half of the video appears to alternate between two different settings.\\\\n\\\\nOne setting seems to be a laboratory or workshop environment from an older era, possibly mid-20th century, judging by the style of the equipment and the clothing of the person in the scene. We see various shots of scientific or technical equipment, including what looks like a close-up of an apparatus with a gauge, possibly related to some kind of experimental setup or measurement device. There are glass tubes and other laboratory equipment in the background. A person, likely a technician or scientist, is seen working with or adjusting the equipment.\\\\n\\\\nThe other setting is a modern kitchen where we see a pizza on a wooden board. Someone wearing gloves is garnishing or perhaps adding final toppings to the pizza, which looks freshly baked with melted cheese and green toppings that might be bell peppers or herbs.\\\\n\\\\nThe video jumps back and forth between these two scenes, suggesting a contrast or comparison, but without context, it\\'s difficult to determine the relationship or narrative connecting the laboratory equipment with the pizza preparation. The juxtaposition is unusual and could be part of a documentary, educational content, or perhaps an artistic or conceptual piece.\"')]}\n",
      "----\n"
     ]
    }
   ],
   "source": [
    "inputs = {'input': 'Describe this video in details. Its path is ./hosptial.mp4','chat_history': []}\n",
    "for s in app.stream(inputs):\n",
    "    print(list(s.values())[0])\n",
    "    print(\"----\")"
   ]
  },
  {
   "cell_type": "code",
   "execution_count": 18,
   "metadata": {},
   "outputs": [
    {
     "name": "stdout",
     "output_type": "stream",
     "text": [
      "success\n",
      "{'input': 'What is label on the mask in the first part of this video. Its path is ./hosptial.mp4', 'chat_history': [], 'agent_outcome': AgentFinish(return_values={'output': 'In the first part of the video, the label on the mask reads \"ARMY EMERGENCY RESPIRATOR.\"'}, log='In the first part of the video, the label on the mask reads \"ARMY EMERGENCY RESPIRATOR.\"'), 'intermediate_steps': [(AgentActionMessageLog(tool='split_video', tool_input={'video_path': './hosptial.mp4'}, log=\"\\nInvoking: `split_video` with `{'video_path': './hosptial.mp4'}`\\n\\n\\n\", message_log=[AIMessage(content='', additional_kwargs={'function_call': {'arguments': '{\"video_path\":\"./hosptial.mp4\"}', 'name': 'split_video'}})]), \"['analyst1_frames', 'analyst2_frames']\"), (AgentActionMessageLog(tool='get_video_description', tool_input={'question': 'What is the label on the mask in the first part of the video?', 'path': 'analyst1_frames'}, log=\"\\nInvoking: `get_video_description` with `{'question': 'What is the label on the mask in the first part of the video?', 'path': 'analyst1_frames'}`\\n\\n\\n\", message_log=[AIMessage(content='', additional_kwargs={'function_call': {'arguments': '{\"question\":\"What is the label on the mask in the first part of the video?\",\"path\":\"analyst1_frames\"}', 'name': 'get_video_description'}})]), 'content=\\'The label on the mask reads \"ARMY EMERGENCY RESPIRATOR.\"\\'')]}\n"
     ]
    }
   ],
   "source": [
    "print(app.invoke(inputs))"
   ]
  },
  {
   "cell_type": "code",
   "execution_count": 19,
   "metadata": {},
   "outputs": [
    {
     "data": {
      "text/plain": [
       "{'input': 'What is label on the mask in the first part of this video. Its path is ./hosptial.mp4',\n",
       " 'chat_history': []}"
      ]
     },
     "execution_count": 19,
     "metadata": {},
     "output_type": "execute_result"
    }
   ],
   "source": [
    "inputs"
   ]
  },
  {
   "cell_type": "code",
   "execution_count": 10,
   "metadata": {},
   "outputs": [
    {
     "data": {
      "text/plain": [
       "{'__end__': {'input': 'Describe this video in details. Its path is ./hosptial.mp4',\n",
       "  'chat_history': [],\n",
       "  'agent_outcome': AgentFinish(return_values={'output': 'The video \"hospital.mp4\" has been split into two parts for analysis. Here are the key findings from each part:\\n\\nFirst Half of the Video:\\nThe first half of the video features two distinct scenes. The first scene depicts a person wearing an older military or medical-style oxygen mask labeled \"ARMY EMERGENCY\" on the rebreather bag. The person is shown from various angles, suggesting a focus on the mask and its use. Interspersed with these shots are images of a person slicing a freshly baked pizza on a wooden board. The pizza is being prepared in a food setting, and the person cutting it is wearing gloves. The alternating sequence of the oxygen mask and pizza suggests a thematic or narrative contrast, although the specific connection or storyline is not clear.\\n\\nSecond Half of the Video:\\nThe second half of the video alternates between two settings. The first setting appears to be a laboratory or workshop environment from an older era, possibly mid-20th century, featuring scientific or technical equipment and a person working with the equipment. The other setting is a modern kitchen where a pizza on a wooden board is being garnished or prepared with final toppings by someone wearing gloves. The pizza looks freshly baked with melted cheese and green toppings, possibly bell peppers or herbs. The juxtaposition of the laboratory equipment with the pizza preparation suggests a contrast or comparison, but the specific relationship or narrative remains unclear.\\n\\nIn summary, the video consists of alternating sequences featuring an older military-style oxygen mask and pizza preparation, as well as laboratory equipment from an older era and modern kitchen pizza preparation. The thematic or narrative connections between these scenes are ambiguous, leaving room for interpretation regarding the intended message or storyline of the video.'}, log='The video \"hospital.mp4\" has been split into two parts for analysis. Here are the key findings from each part:\\n\\nFirst Half of the Video:\\nThe first half of the video features two distinct scenes. The first scene depicts a person wearing an older military or medical-style oxygen mask labeled \"ARMY EMERGENCY\" on the rebreather bag. The person is shown from various angles, suggesting a focus on the mask and its use. Interspersed with these shots are images of a person slicing a freshly baked pizza on a wooden board. The pizza is being prepared in a food setting, and the person cutting it is wearing gloves. The alternating sequence of the oxygen mask and pizza suggests a thematic or narrative contrast, although the specific connection or storyline is not clear.\\n\\nSecond Half of the Video:\\nThe second half of the video alternates between two settings. The first setting appears to be a laboratory or workshop environment from an older era, possibly mid-20th century, featuring scientific or technical equipment and a person working with the equipment. The other setting is a modern kitchen where a pizza on a wooden board is being garnished or prepared with final toppings by someone wearing gloves. The pizza looks freshly baked with melted cheese and green toppings, possibly bell peppers or herbs. The juxtaposition of the laboratory equipment with the pizza preparation suggests a contrast or comparison, but the specific relationship or narrative remains unclear.\\n\\nIn summary, the video consists of alternating sequences featuring an older military-style oxygen mask and pizza preparation, as well as laboratory equipment from an older era and modern kitchen pizza preparation. The thematic or narrative connections between these scenes are ambiguous, leaving room for interpretation regarding the intended message or storyline of the video.'),\n",
       "  'intermediate_steps': [(AgentActionMessageLog(tool='split_video', tool_input={'video_path': './hosptial.mp4'}, log=\"\\nInvoking: `split_video` with `{'video_path': './hosptial.mp4'}`\\n\\n\\n\", message_log=[AIMessage(content='', additional_kwargs={'function_call': {'arguments': '{\"video_path\":\"./hosptial.mp4\"}', 'name': 'split_video'}})]),\n",
       "    \"['analyst1_frames', 'analyst2_frames']\"),\n",
       "   (AgentActionMessageLog(tool='get_video_description', tool_input={'question': 'Please describe the first half of the video.', 'path': 'analyst1_frames'}, log=\"\\nInvoking: `get_video_description` with `{'question': 'Please describe the first half of the video.', 'path': 'analyst1_frames'}`\\n\\n\\n\", message_log=[AIMessage(content='', additional_kwargs={'function_call': {'arguments': '{\"question\":\"Please describe the first half of the video.\",\"path\":\"analyst1_frames\"}', 'name': 'get_video_description'}})]),\n",
       "    'content=\\'The sequence of images provided appears to depict two different scenes, possibly from an older video given the vintage look of the frames. Here\\\\\\'s a description of what is shown in the images:\\\\n\\\\n1. Several frames feature a close-up of a person wearing an oxygen mask with the label \"ARMY EMERGENCY\" on the rebreather bag. The mask appears to be an older military or medical-style oxygen mask, and the person is seen from different angles, possibly suggesting a focus on the mask and its use.\\\\n\\\\n2. Interspersed between the close-up shots of the oxygen mask are images of a person slicing a pizza. The pizza is on a wooden board, and the person cutting it is wearing gloves, suggesting a food preparation setting. The pizza looks freshly baked with melted cheese and toppings.\\\\n\\\\nThe juxtaposition of these two scenes could imply a thematic or narrative contrast in the original video content, but without additional context, the connection or storyline is not clear. The images alternate between the mask and the pizza, which might suggest an intentional editing choice to create a parallel or to emphasize a specific point.\\''),\n",
       "   (AgentActionMessageLog(tool='get_video_description', tool_input={'question': 'Please describe the second half of the video.', 'path': 'analyst2_frames'}, log=\"\\nInvoking: `get_video_description` with `{'question': 'Please describe the second half of the video.', 'path': 'analyst2_frames'}`\\n\\n\\n\", message_log=[AIMessage(content='', additional_kwargs={'function_call': {'arguments': '{\"question\":\"Please describe the second half of the video.\",\"path\":\"analyst2_frames\"}', 'name': 'get_video_description'}})]),\n",
       "    'content=\"The second half of the video appears to alternate between two different settings.\\\\n\\\\nOne setting seems to be a laboratory or workshop environment from an older era, possibly mid-20th century, judging by the style of the equipment and the clothing of the person in the scene. We see various shots of scientific or technical equipment, including what looks like a close-up of an apparatus with a gauge, possibly related to some kind of experimental setup or measurement device. There are glass tubes and other laboratory equipment in the background. A person, likely a technician or scientist, is seen working with or adjusting the equipment.\\\\n\\\\nThe other setting is a modern kitchen where we see a pizza on a wooden board. Someone wearing gloves is garnishing or perhaps adding final toppings to the pizza, which looks freshly baked with melted cheese and green toppings that might be bell peppers or herbs.\\\\n\\\\nThe video jumps back and forth between these two scenes, suggesting a contrast or comparison, but without context, it\\'s difficult to determine the relationship or narrative connecting the laboratory equipment with the pizza preparation. The juxtaposition is unusual and could be part of a documentary, educational content, or perhaps an artistic or conceptual piece.\"')]}}"
      ]
     },
     "execution_count": 10,
     "metadata": {},
     "output_type": "execute_result"
    }
   ],
   "source": [
    "s"
   ]
  },
  {
   "cell_type": "code",
   "execution_count": 26,
   "metadata": {},
   "outputs": [
    {
     "name": "stdout",
     "output_type": "stream",
     "text": [
      "The video \"hospital.mp4\" has been split into two parts for analysis. Here are the key findings from each part:\n",
      "\n",
      "First Half of the Video:\n",
      "The first half of the video features two distinct scenes. The first scene depicts a person wearing an older military or medical-style oxygen mask labeled \"ARMY EMERGENCY\" on the rebreather bag. The person is shown from various angles, suggesting a focus on the mask and its use. Interspersed with these shots are images of a person slicing a freshly baked pizza on a wooden board. The pizza is being prepared in a food setting, and the person cutting it is wearing gloves. The alternating sequence of the oxygen mask and pizza suggests a thematic or narrative contrast, although the specific connection or storyline is not clear.\n",
      "\n",
      "Second Half of the Video:\n",
      "The second half of the video alternates between two settings. The first setting appears to be a laboratory or workshop environment from an older era, possibly mid-20th century, featuring scientific or technical equipment and a person working with the equipment. The other setting is a modern kitchen where a pizza on a wooden board is being garnished or prepared with final toppings by someone wearing gloves. The pizza looks freshly baked with melted cheese and green toppings, possibly bell peppers or herbs. The juxtaposition of the laboratory equipment with the pizza preparation suggests a contrast or comparison, but the specific relationship or narrative remains unclear.\n",
      "\n",
      "In summary, the video consists of alternating sequences featuring an older military-style oxygen mask and pizza preparation, as well as laboratory equipment from an older era and modern kitchen pizza preparation. The thematic or narrative connections between these scenes are ambiguous, leaving room for interpretation regarding the intended message or storyline of the video.\n"
     ]
    }
   ],
   "source": [
    "print(s['__end__']['agent_outcome'].return_values['output'])"
   ]
  },
  {
   "cell_type": "code",
   "execution_count": null,
   "metadata": {},
   "outputs": [],
   "source": []
  }
 ],
 "metadata": {
  "kernelspec": {
   "display_name": "Python 3",
   "language": "python",
   "name": "python3"
  },
  "language_info": {
   "codemirror_mode": {
    "name": "ipython",
    "version": 3
   },
   "file_extension": ".py",
   "mimetype": "text/x-python",
   "name": "python",
   "nbconvert_exporter": "python",
   "pygments_lexer": "ipython3",
   "version": "3.10.14"
  }
 },
 "nbformat": 4,
 "nbformat_minor": 2
}
