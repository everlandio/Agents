{
 "cells": [
  {
   "cell_type": "code",
   "execution_count": 1,
   "metadata": {},
   "outputs": [],
   "source": [
    "from langchain_openai import ChatOpenAI\n",
    "\n",
    "model = ChatOpenAI(temperature=0, model=\"gpt-4-turbo-preview\")"
   ]
  },
  {
   "cell_type": "code",
   "execution_count": 2,
   "metadata": {},
   "outputs": [
    {
     "name": "stdout",
     "output_type": "stream",
     "text": [
      "Select several reasoning modules that are crucial to utilize in order to solve the given task:\n",
      "\n",
      "All reasoning module descriptions:\n",
      "\u001b[33;1m\u001b[1;3m{reasoning_modules}\u001b[0m\n",
      "\n",
      "Task: \u001b[33;1m\u001b[1;3m{task_description}\u001b[0m\n",
      "\n",
      "Select several modules are crucial for solving the task above:\n",
      "\n"
     ]
    }
   ],
   "source": [
    "from langchain import hub\n",
    "from langchain_core.prompts import PromptTemplate\n",
    "\n",
    "select_prompt = hub.pull(\"hwchase17/self-discovery-select\")\n",
    "\n",
    "select_prompt.pretty_print()"
   ]
  },
  {
   "cell_type": "code",
   "execution_count": 3,
   "metadata": {},
   "outputs": [
    {
     "name": "stdout",
     "output_type": "stream",
     "text": [
      "Rephrase and specify each reasoning module so that it better helps solving the task:\n",
      "\n",
      "SELECTED module descriptions:\n",
      "\u001b[33;1m\u001b[1;3m{selected_modules}\u001b[0m\n",
      "\n",
      "Task: \u001b[33;1m\u001b[1;3m{task_description}\u001b[0m\n",
      "\n",
      "Adapt each reasoning module description to better solve the task:\n",
      "\n"
     ]
    }
   ],
   "source": [
    "adapt_prompt = hub.pull(\"hwchase17/self-discovery-adapt\")\n",
    "adapt_prompt.pretty_print()"
   ]
  },
  {
   "cell_type": "code",
   "execution_count": 4,
   "metadata": {},
   "outputs": [
    {
     "name": "stdout",
     "output_type": "stream",
     "text": [
      "Operationalize the reasoning modules into a step-by-step reasoning plan in JSON format:\n",
      "\n",
      "Here's an example:\n",
      "\n",
      "Example task:\n",
      "\n",
      "If you follow these instructions, do you return to the starting point? Always face forward. Take 1 step backward. Take 9 steps left. Take 2 steps backward. Take 6 steps forward. Take 4 steps forward. Take 4 steps backward. Take 3 steps right.\n",
      "\n",
      "Example reasoning structure:\n",
      "\n",
      "{\n",
      "    \"Position after instruction 1\":\n",
      "    \"Position after instruction 2\":\n",
      "    \"Position after instruction n\":\n",
      "    \"Is final position the same as starting position\":\n",
      "}\n",
      "\n",
      "Adapted module description:\n",
      "\u001b[33;1m\u001b[1;3m{adapted_modules}\u001b[0m\n",
      "\n",
      "Task: \u001b[33;1m\u001b[1;3m{task_description}\u001b[0m\n",
      "\n",
      "Implement a reasoning structure for solvers to follow step-by-step and arrive at correct answer.\n",
      "\n",
      "Note: do NOT actually arrive at a conclusion in this pass. Your job is to generate a PLAN so that in the future you can fill it out and arrive at the correct conclusion for tasks like this\n"
     ]
    }
   ],
   "source": [
    "structured_prompt = hub.pull(\"hwchase17/self-discovery-structure\")\n",
    "structured_prompt.pretty_print()"
   ]
  },
  {
   "cell_type": "code",
   "execution_count": 5,
   "metadata": {},
   "outputs": [
    {
     "name": "stdout",
     "output_type": "stream",
     "text": [
      "Follow the step-by-step reasoning plan in JSON to correctly solve the task. Fill in the values following the keys by reasoning specifically about the task given. Do not simply rephrase the keys.\n",
      "    \n",
      "Reasoning Structure:\n",
      "\u001b[33;1m\u001b[1;3m{reasoning_structure}\u001b[0m\n",
      "\n",
      "Task: \u001b[33;1m\u001b[1;3m{task_description}\u001b[0m\n"
     ]
    }
   ],
   "source": [
    "reasoning_prompt = hub.pull(\"hwchase17/self-discovery-reasoning\")\n",
    "reasoning_prompt.pretty_print()"
   ]
  },
  {
   "cell_type": "code",
   "execution_count": 6,
   "metadata": {},
   "outputs": [],
   "source": [
    "from typing import TypedDict, Optional\n",
    "\n",
    "class SelfDiscoveryState(TypedDict):\n",
    "    reasoning_modules: str\n",
    "    task_description: str\n",
    "    selected_modules: Optional[str]\n",
    "    adapted_modules: Optional[str]\n",
    "    reasoning_structure: Optional[str]\n",
    "    answer: Optional[str]"
   ]
  },
  {
   "cell_type": "code",
   "execution_count": 7,
   "metadata": {},
   "outputs": [],
   "source": [
    "from langchain.schema import StrOutputParser\n",
    "\n",
    "def select(inputs):\n",
    "    select_chain = select_prompt | model | StrOutputParser()\n",
    "    return {\"selected_modules\": select_chain.invoke(inputs)}"
   ]
  },
  {
   "cell_type": "code",
   "execution_count": 8,
   "metadata": {},
   "outputs": [],
   "source": [
    "def adapt(inputs):\n",
    "    adapt_chain = adapt_prompt | model | StrOutputParser()\n",
    "    return {\"adapted_modules\": adapt_chain.invoke(inputs)}"
   ]
  },
  {
   "cell_type": "code",
   "execution_count": 9,
   "metadata": {},
   "outputs": [],
   "source": [
    "def structure(inputs):\n",
    "    structure_chain = structured_prompt | model | StrOutputParser()\n",
    "    return {\"reasoning_structure\": structure_chain.invoke(inputs)}"
   ]
  },
  {
   "cell_type": "code",
   "execution_count": 10,
   "metadata": {},
   "outputs": [],
   "source": [
    "def reason(inputs):\n",
    "    reason_chain = reasoning_prompt | model | StrOutputParser()\n",
    "    return {\"answer\": reason_chain.invoke(inputs)}"
   ]
  },
  {
   "cell_type": "code",
   "execution_count": 11,
   "metadata": {},
   "outputs": [],
   "source": [
    "from langgraph.graph import StateGraph, END\n",
    "\n",
    "graph = StateGraph(SelfDiscoveryState)\n",
    "graph.add_node(\"select\", select)\n",
    "graph.add_node(\"adapt\", adapt)\n",
    "graph.add_node(\"structure\", structure)\n",
    "graph.add_node(\"reason\", reason)\n",
    "graph.add_edge(\"select\", \"adapt\")\n",
    "graph.add_edge(\"adapt\", \"structure\")\n",
    "graph.add_edge(\"structure\", \"reason\")\n",
    "graph.add_edge(\"reason\", END)\n",
    "graph.set_entry_point(\"select\")\n",
    "app = graph.compile()"
   ]
  },
  {
   "cell_type": "code",
   "execution_count": 12,
   "metadata": {},
   "outputs": [],
   "source": [
    "reasoning_modules = [\n",
    "    \"1. How could I devise an experiment to help solve that problem?\",\n",
    "    \"2. Make a list of ideas for solving this problem, and apply them one by one to the problem to see if any progress can be made.\",\n",
    "    # \"3. How could I measure progress on this problem?\",\n",
    "    \"4. How can I simplify the problem so that it is easier to solve?\",\n",
    "    \"5. What are the key assumptions underlying this problem?\",\n",
    "    \"6. What are the potential risks and drawbacks of each solution?\",\n",
    "    \"7. What are the alternative perspectives or viewpoints on this problem?\",\n",
    "    \"8. What are the long-term implications of this problem and its solutions?\",\n",
    "    \"9. How can I break down this problem into smaller, more manageable parts?\",\n",
    "    \"10. Critical Thinking: This style involves analyzing the problem from different perspectives, questioning assumptions, and evaluating the evidence or information available. It focuses on logical reasoning, evidence-based decision-making, and identifying potential biases or flaws in thinking.\",\n",
    "    \"11. Try creative thinking, generate innovative and out-of-the-box ideas to solve the problem. Explore unconventional solutions, thinking beyond traditional boundaries, and encouraging imagination and originality.\",\n",
    "    # \"12. Seek input and collaboration from others to solve the problem. Emphasize teamwork, open communication, and leveraging the diverse perspectives and expertise of a group to come up with effective solutions.\",\n",
    "    \"13. Use systems thinking: Consider the problem as part of a larger system and understanding the interconnectedness of various elements. Focuses on identifying the underlying causes, feedback loops, and interdependencies that influence the problem, and developing holistic solutions that address the system as a whole.\",\n",
    "    \"14. Use Risk Analysis: Evaluate potential risks, uncertainties, and tradeoffs associated with different solutions or approaches to a problem. Emphasize assessing the potential consequences and likelihood of success or failure, and making informed decisions based on a balanced analysis of risks and benefits.\",\n",
    "    # \"15. Use Reflective Thinking: Step back from the problem, take the time for introspection and self-reflection. Examine personal biases, assumptions, and mental models that may influence problem-solving, and being open to learning from past experiences to improve future approaches.\",\n",
    "    \"16. What is the core issue or problem that needs to be addressed?\",\n",
    "    \"17. What are the underlying causes or factors contributing to the problem?\",\n",
    "    \"18. Are there any potential solutions or strategies that have been tried before? If yes, what were the outcomes and lessons learned?\",\n",
    "    \"19. What are the potential obstacles or challenges that might arise in solving this problem?\",\n",
    "    \"20. Are there any relevant data or information that can provide insights into the problem? If yes, what data sources are available, and how can they be analyzed?\",\n",
    "    \"21. Are there any stakeholders or individuals who are directly affected by the problem? What are their perspectives and needs?\",\n",
    "    \"22. What resources (financial, human, technological, etc.) are needed to tackle the problem effectively?\",\n",
    "    \"23. How can progress or success in solving the problem be measured or evaluated?\",\n",
    "    \"24. What indicators or metrics can be used?\",\n",
    "    \"25. Is the problem a technical or practical one that requires a specific expertise or skill set? Or is it more of a conceptual or theoretical problem?\",\n",
    "    \"26. Does the problem involve a physical constraint, such as limited resources, infrastructure, or space?\",\n",
    "    \"27. Is the problem related to human behavior, such as a social, cultural, or psychological issue?\",\n",
    "    \"28. Does the problem involve decision-making or planning, where choices need to be made under uncertainty or with competing objectives?\",\n",
    "    \"29. Is the problem an analytical one that requires data analysis, modeling, or optimization techniques?\",\n",
    "    \"30. Is the problem a design challenge that requires creative solutions and innovation?\",\n",
    "    \"31. Does the problem require addressing systemic or structural issues rather than just individual instances?\",\n",
    "    \"32. Is the problem time-sensitive or urgent, requiring immediate attention and action?\",\n",
    "    \"33. What kinds of solution typically are produced for this kind of problem specification?\",\n",
    "    \"34. Given the problem specification and the current best solution, have a guess about other possible solutions.\"\n",
    "    \"35. Let’s imagine the current best solution is totally wrong, what other ways are there to think about the problem specification?\"\n",
    "    \"36. What is the best way to modify this current best solution, given what you know about these kinds of problem specification?\"\n",
    "    \"37. Ignoring the current best solution, create an entirely new solution to the problem.\"\n",
    "    # \"38. Let’s think step by step.\"\n",
    "    \"39. Let’s make a step by step plan and implement it with good notation and explanation.\",\n",
    "]"
   ]
  },
  {
   "cell_type": "code",
   "execution_count": 13,
   "metadata": {},
   "outputs": [],
   "source": [
    "task_example = \"Lisa has 10 apples. She gives 3 apples to her friend and then buys 5 more apples from the store. How many apples does Lisa have now?\""
   ]
  },
  {
   "cell_type": "code",
   "execution_count": 14,
   "metadata": {},
   "outputs": [],
   "source": [
    "reasoning_modules_str = \"\\n\".join(reasoning_modules)"
   ]
  },
  {
   "cell_type": "code",
   "execution_count": 15,
   "metadata": {},
   "outputs": [
    {
     "name": "stdout",
     "output_type": "stream",
     "text": [
      "{'select': {'selected_modules': 'For the given task, which is a straightforward arithmetic problem, the most crucial reasoning modules to utilize would be:\\n\\n4. How can I simplify the problem so that it is easier to solve? - This module is relevant because the task involves simple arithmetic operations that can be easily simplified into two steps: subtracting the apples given away and adding the apples bought.\\n\\n16. What is the core issue or problem that needs to be addressed? - Identifying the core issue, which in this case is calculating the total number of apples Lisa has after the transactions.\\n\\n20. Are there any relevant data or information that can provide insights into the problem? - This involves recognizing the initial number of apples, the number given away, and the number bought as the relevant data for solving the problem.\\n\\n39. Let’s make a step by step plan and implement it with good notation and explanation. - This module involves creating a plan to solve the problem, which would entail subtracting the apples given away from the initial amount and then adding the apples bought to find the final total.\\n\\nThese modules directly address the nature of the problem and provide a structured approach to reaching the solution.'}}\n",
      "{'adapt': {'adapted_modules': \"1. Simplification Strategy for Arithmetic Operations: This module is crucial as it breaks down the arithmetic problem into manageable steps, specifically focusing on the operations of subtraction for the apples Lisa gives away and addition for the apples she acquires. This simplification is essential for efficiently solving the problem.\\n\\n2. Identifying the Calculation Objective: The primary goal here is to determine Lisa's final apple count after she engages in two distinct transactions: giving away and purchasing apples. This module zeroes in on understanding the arithmetic process needed to calculate Lisa's total number of apples after these events.\\n\\n3. Gathering and Utilizing Relevant Numerical Data: This module emphasizes the importance of accurately identifying and using the specific numerical values provided in the problem: the initial count of apples Lisa has (10), the number of apples she gives away (3), and the number of apples she buys (5). Recognizing and applying these figures are pivotal for solving the arithmetic problem at hand.\\n\\n4. Structured Plan for Arithmetic Resolution: This module involves devising a clear, step-by-step strategy to tackle the problem, starting with the subtraction of the apples given away from Lisa's initial total, followed by the addition of the apples she purchases. This plan should be executed with clear notation and thorough explanation to ensure the arithmetic process is transparent and the solution is easily understood.\\n\\nBy refining each module in this manner, the approach to solving the task becomes more focused, enhancing the problem-solving process.\"}}\n",
      "{'structure': {'reasoning_structure': '```json\\n{\\n  \"Initial Setup\": {\\n    \"Description\": \"Identify the initial conditions and the transactions Lisa will make with her apples.\",\\n    \"Initial Apple Count\": \"Start with the number of apples Lisa initially has.\",\\n    \"Transactions\": [\\n      {\\n        \"Transaction 1\": \"Subtract the number of apples Lisa gives away from her initial count.\",\\n        \"Details\": {\\n          \"Operation\": \"Subtraction\",\\n          \"Value\": \"Number of apples given away\"\\n        }\\n      },\\n      {\\n        \"Transaction 2\": \"Add the number of apples Lisa buys to her new total.\",\\n        \"Details\": {\\n          \"Operation\": \"Addition\",\\n          \"Value\": \"Number of apples bought\"\\n        }\\n      }\\n    ]\\n  },\\n  \"Execution Plan\": {\\n    \"Step 1\": {\\n      \"Action\": \"Apply the Simplification Strategy for Arithmetic Operations\",\\n      \"Objective\": \"Break down the problem into subtraction and addition steps.\"\\n    },\\n    \"Step 2\": {\\n      \"Action\": \"Identify the Calculation Objective\",\\n      \"Objective\": \"Determine the final count of Lisa\\'s apples after transactions.\"\\n    },\\n    \"Step 3\": {\\n      \"Action\": \"Gather and Utilize Relevant Numerical Data\",\\n      \"Objective\": \"Use the specific numbers provided to calculate the changes in apple count.\"\\n    },\\n    \"Step 4\": {\\n      \"Action\": \"Execute Structured Plan for Arithmetic Resolution\",\\n      \"Objective\": \"Carry out the subtraction and addition to find the final apple count.\"\\n    }\\n  },\\n  \"Final Evaluation\": {\\n    \"Description\": \"Assess if the final apple count has been accurately calculated.\",\\n    \"Final Apple Count\": \"Calculate the total number of apples Lisa has after all transactions.\",\\n    \"Verification\": \"Check if the arithmetic operations have been correctly applied and if the final count aligns with the logical outcome of the transactions.\"\\n  }\\n}\\n```'}}\n",
      "{'reason': {'answer': '```json\\n{\\n  \"Initial Setup\": {\\n    \"Description\": \"Lisa starts with a certain number of apples, gives some to her friend, and then buys more from the store.\",\\n    \"Initial Apple Count\": \"10\",\\n    \"Transactions\": [\\n      {\\n        \"Transaction 1\": \"Subtract the number of apples Lisa gives to her friend from her initial count.\",\\n        \"Details\": {\\n          \"Operation\": \"Subtraction\",\\n          \"Value\": \"3\"\\n        }\\n      },\\n      {\\n        \"Transaction 2\": \"Add the number of apples Lisa buys to her new total.\",\\n        \"Details\": {\\n          \"Operation\": \"Addition\",\\n          \"Value\": \"5\"\\n        }\\n      }\\n    ]\\n  },\\n  \"Execution Plan\": {\\n    \"Step 1\": {\\n      \"Action\": \"Break down the problem into a subtraction followed by an addition.\",\\n      \"Objective\": \"Simplify the problem into manageable steps.\"\\n    },\\n    \"Step 2\": {\\n      \"Action\": \"Determine how many apples Lisa will have after giving some away and then buying more.\",\\n      \"Objective\": \"Find out Lisa\\'s final apple count.\"\\n    },\\n    \"Step 3\": {\\n      \"Action\": \"Use the numbers 10, 3, and 5 to calculate the changes in the apple count.\",\\n      \"Objective\": \"Apply the specific numbers to the subtraction and addition steps.\"\\n    },\\n    \"Step 4\": {\\n      \"Action\": \"Subtract 3 from 10, then add 5 to the result.\",\\n      \"Objective\": \"Find the final count of Lisa\\'s apples.\"\\n    }\\n  },\\n  \"Final Evaluation\": {\\n    \"Description\": \"Check if the calculation of Lisa\\'s final apple count is correct.\",\\n    \"Final Apple Count\": \"12\",\\n    \"Verification\": \"The subtraction of 3 from 10 gives 7, and the addition of 5 gives a final count of 12, which is the correct outcome of the transactions.\"\\n  }\\n}\\n```'}}\n",
      "{'__end__': {'reasoning_modules': '1. How could I devise an experiment to help solve that problem?\\n2. Make a list of ideas for solving this problem, and apply them one by one to the problem to see if any progress can be made.\\n4. How can I simplify the problem so that it is easier to solve?\\n5. What are the key assumptions underlying this problem?\\n6. What are the potential risks and drawbacks of each solution?\\n7. What are the alternative perspectives or viewpoints on this problem?\\n8. What are the long-term implications of this problem and its solutions?\\n9. How can I break down this problem into smaller, more manageable parts?\\n10. Critical Thinking: This style involves analyzing the problem from different perspectives, questioning assumptions, and evaluating the evidence or information available. It focuses on logical reasoning, evidence-based decision-making, and identifying potential biases or flaws in thinking.\\n11. Try creative thinking, generate innovative and out-of-the-box ideas to solve the problem. Explore unconventional solutions, thinking beyond traditional boundaries, and encouraging imagination and originality.\\n13. Use systems thinking: Consider the problem as part of a larger system and understanding the interconnectedness of various elements. Focuses on identifying the underlying causes, feedback loops, and interdependencies that influence the problem, and developing holistic solutions that address the system as a whole.\\n14. Use Risk Analysis: Evaluate potential risks, uncertainties, and tradeoffs associated with different solutions or approaches to a problem. Emphasize assessing the potential consequences and likelihood of success or failure, and making informed decisions based on a balanced analysis of risks and benefits.\\n16. What is the core issue or problem that needs to be addressed?\\n17. What are the underlying causes or factors contributing to the problem?\\n18. Are there any potential solutions or strategies that have been tried before? If yes, what were the outcomes and lessons learned?\\n19. What are the potential obstacles or challenges that might arise in solving this problem?\\n20. Are there any relevant data or information that can provide insights into the problem? If yes, what data sources are available, and how can they be analyzed?\\n21. Are there any stakeholders or individuals who are directly affected by the problem? What are their perspectives and needs?\\n22. What resources (financial, human, technological, etc.) are needed to tackle the problem effectively?\\n23. How can progress or success in solving the problem be measured or evaluated?\\n24. What indicators or metrics can be used?\\n25. Is the problem a technical or practical one that requires a specific expertise or skill set? Or is it more of a conceptual or theoretical problem?\\n26. Does the problem involve a physical constraint, such as limited resources, infrastructure, or space?\\n27. Is the problem related to human behavior, such as a social, cultural, or psychological issue?\\n28. Does the problem involve decision-making or planning, where choices need to be made under uncertainty or with competing objectives?\\n29. Is the problem an analytical one that requires data analysis, modeling, or optimization techniques?\\n30. Is the problem a design challenge that requires creative solutions and innovation?\\n31. Does the problem require addressing systemic or structural issues rather than just individual instances?\\n32. Is the problem time-sensitive or urgent, requiring immediate attention and action?\\n33. What kinds of solution typically are produced for this kind of problem specification?\\n34. Given the problem specification and the current best solution, have a guess about other possible solutions.35. Let’s imagine the current best solution is totally wrong, what other ways are there to think about the problem specification?36. What is the best way to modify this current best solution, given what you know about these kinds of problem specification?37. Ignoring the current best solution, create an entirely new solution to the problem.39. Let’s make a step by step plan and implement it with good notation and explanation.', 'task_description': 'Lisa has 10 apples. She gives 3 apples to her friend and then buys 5 more apples from the store. How many apples does Lisa have now?', 'selected_modules': 'For the given task, which is a straightforward arithmetic problem, the most crucial reasoning modules to utilize would be:\\n\\n4. How can I simplify the problem so that it is easier to solve? - This module is relevant because the task involves simple arithmetic operations that can be easily simplified into two steps: subtracting the apples given away and adding the apples bought.\\n\\n16. What is the core issue or problem that needs to be addressed? - Identifying the core issue, which in this case is calculating the total number of apples Lisa has after the transactions.\\n\\n20. Are there any relevant data or information that can provide insights into the problem? - This involves recognizing the initial number of apples, the number given away, and the number bought as the relevant data for solving the problem.\\n\\n39. Let’s make a step by step plan and implement it with good notation and explanation. - This module involves creating a plan to solve the problem, which would entail subtracting the apples given away from the initial amount and then adding the apples bought to find the final total.\\n\\nThese modules directly address the nature of the problem and provide a structured approach to reaching the solution.', 'adapted_modules': \"1. Simplification Strategy for Arithmetic Operations: This module is crucial as it breaks down the arithmetic problem into manageable steps, specifically focusing on the operations of subtraction for the apples Lisa gives away and addition for the apples she acquires. This simplification is essential for efficiently solving the problem.\\n\\n2. Identifying the Calculation Objective: The primary goal here is to determine Lisa's final apple count after she engages in two distinct transactions: giving away and purchasing apples. This module zeroes in on understanding the arithmetic process needed to calculate Lisa's total number of apples after these events.\\n\\n3. Gathering and Utilizing Relevant Numerical Data: This module emphasizes the importance of accurately identifying and using the specific numerical values provided in the problem: the initial count of apples Lisa has (10), the number of apples she gives away (3), and the number of apples she buys (5). Recognizing and applying these figures are pivotal for solving the arithmetic problem at hand.\\n\\n4. Structured Plan for Arithmetic Resolution: This module involves devising a clear, step-by-step strategy to tackle the problem, starting with the subtraction of the apples given away from Lisa's initial total, followed by the addition of the apples she purchases. This plan should be executed with clear notation and thorough explanation to ensure the arithmetic process is transparent and the solution is easily understood.\\n\\nBy refining each module in this manner, the approach to solving the task becomes more focused, enhancing the problem-solving process.\", 'reasoning_structure': '```json\\n{\\n  \"Initial Setup\": {\\n    \"Description\": \"Identify the initial conditions and the transactions Lisa will make with her apples.\",\\n    \"Initial Apple Count\": \"Start with the number of apples Lisa initially has.\",\\n    \"Transactions\": [\\n      {\\n        \"Transaction 1\": \"Subtract the number of apples Lisa gives away from her initial count.\",\\n        \"Details\": {\\n          \"Operation\": \"Subtraction\",\\n          \"Value\": \"Number of apples given away\"\\n        }\\n      },\\n      {\\n        \"Transaction 2\": \"Add the number of apples Lisa buys to her new total.\",\\n        \"Details\": {\\n          \"Operation\": \"Addition\",\\n          \"Value\": \"Number of apples bought\"\\n        }\\n      }\\n    ]\\n  },\\n  \"Execution Plan\": {\\n    \"Step 1\": {\\n      \"Action\": \"Apply the Simplification Strategy for Arithmetic Operations\",\\n      \"Objective\": \"Break down the problem into subtraction and addition steps.\"\\n    },\\n    \"Step 2\": {\\n      \"Action\": \"Identify the Calculation Objective\",\\n      \"Objective\": \"Determine the final count of Lisa\\'s apples after transactions.\"\\n    },\\n    \"Step 3\": {\\n      \"Action\": \"Gather and Utilize Relevant Numerical Data\",\\n      \"Objective\": \"Use the specific numbers provided to calculate the changes in apple count.\"\\n    },\\n    \"Step 4\": {\\n      \"Action\": \"Execute Structured Plan for Arithmetic Resolution\",\\n      \"Objective\": \"Carry out the subtraction and addition to find the final apple count.\"\\n    }\\n  },\\n  \"Final Evaluation\": {\\n    \"Description\": \"Assess if the final apple count has been accurately calculated.\",\\n    \"Final Apple Count\": \"Calculate the total number of apples Lisa has after all transactions.\",\\n    \"Verification\": \"Check if the arithmetic operations have been correctly applied and if the final count aligns with the logical outcome of the transactions.\"\\n  }\\n}\\n```', 'answer': '```json\\n{\\n  \"Initial Setup\": {\\n    \"Description\": \"Lisa starts with a certain number of apples, gives some to her friend, and then buys more from the store.\",\\n    \"Initial Apple Count\": \"10\",\\n    \"Transactions\": [\\n      {\\n        \"Transaction 1\": \"Subtract the number of apples Lisa gives to her friend from her initial count.\",\\n        \"Details\": {\\n          \"Operation\": \"Subtraction\",\\n          \"Value\": \"3\"\\n        }\\n      },\\n      {\\n        \"Transaction 2\": \"Add the number of apples Lisa buys to her new total.\",\\n        \"Details\": {\\n          \"Operation\": \"Addition\",\\n          \"Value\": \"5\"\\n        }\\n      }\\n    ]\\n  },\\n  \"Execution Plan\": {\\n    \"Step 1\": {\\n      \"Action\": \"Break down the problem into a subtraction followed by an addition.\",\\n      \"Objective\": \"Simplify the problem into manageable steps.\"\\n    },\\n    \"Step 2\": {\\n      \"Action\": \"Determine how many apples Lisa will have after giving some away and then buying more.\",\\n      \"Objective\": \"Find out Lisa\\'s final apple count.\"\\n    },\\n    \"Step 3\": {\\n      \"Action\": \"Use the numbers 10, 3, and 5 to calculate the changes in the apple count.\",\\n      \"Objective\": \"Apply the specific numbers to the subtraction and addition steps.\"\\n    },\\n    \"Step 4\": {\\n      \"Action\": \"Subtract 3 from 10, then add 5 to the result.\",\\n      \"Objective\": \"Find the final count of Lisa\\'s apples.\"\\n    }\\n  },\\n  \"Final Evaluation\": {\\n    \"Description\": \"Check if the calculation of Lisa\\'s final apple count is correct.\",\\n    \"Final Apple Count\": \"12\",\\n    \"Verification\": \"The subtraction of 3 from 10 gives 7, and the addition of 5 gives a final count of 12, which is the correct outcome of the transactions.\"\\n  }\\n}\\n```'}}\n"
     ]
    }
   ],
   "source": [
    "for s in app.stream(\n",
    "    {\"task_description\": task_example, \"reasoning_modules\": reasoning_modules_str}\n",
    "):\n",
    "    print(s)"
   ]
  },
  {
   "cell_type": "code",
   "execution_count": null,
   "metadata": {},
   "outputs": [],
   "source": []
  }
 ],
 "metadata": {
  "kernelspec": {
   "display_name": "Python 3",
   "language": "python",
   "name": "python3"
  },
  "language_info": {
   "codemirror_mode": {
    "name": "ipython",
    "version": 3
   },
   "file_extension": ".py",
   "mimetype": "text/x-python",
   "name": "python",
   "nbconvert_exporter": "python",
   "pygments_lexer": "ipython3",
   "version": "3.10.14"
  }
 },
 "nbformat": 4,
 "nbformat_minor": 2
}
